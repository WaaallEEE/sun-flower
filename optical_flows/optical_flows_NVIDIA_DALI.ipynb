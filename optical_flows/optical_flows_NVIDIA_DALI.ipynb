{
 "cells": [
  {
   "cell_type": "markdown",
   "metadata": {},
   "source": [
    "# Optical Flow example provided by the DALI Team @NVIDIA, refactored to personal use case"
   ]
  },
  {
   "cell_type": "code",
   "execution_count": 2,
   "metadata": {},
   "outputs": [],
   "source": [
    "from __future__ import print_function\n",
    "from __future__ import division\n",
    "import os.path\n",
    "import numpy as np\n",
    "\n",
    "from nvidia.dali.pipeline import Pipeline\n",
    "import nvidia.dali.ops as ops\n",
    "\n",
    "from matplotlib import pyplot as plt"
   ]
  },
  {
   "cell_type": "markdown",
   "metadata": {},
   "source": [
    "We have one sequence, I placed the directory `simulaton_images` in another dir named `sequences`, so the SequenceReader operator can be used (it requires such nested structure, the `simulation_images` will represent one sequence)."
   ]
  },
  {
   "cell_type": "code",
   "execution_count": 3,
   "metadata": {},
   "outputs": [
    {
     "name": "stdout",
     "output_type": "stream",
     "text": [
      "['simulation_images']\n",
      "['SDO_int291180.jpg', 'SDO_int291600.jpg', 'SDO_int291420.jpg', 'SDO_int290160.jpg', 'SDO_int291060.jpg', 'SDO_int291660.jpg', 'SDO_int291780.jpg', 'SDO_int291540.jpg', 'SDO_int290940.jpg', 'SDO_int290220.jpg', 'SDO_int290040.jpg', 'SDO_int291360.jpg', 'SDO_int291000.jpg', 'SDO_int291300.jpg', 'SDO_int290100.jpg', 'SDO_int290280.jpg', 'SDO_int290820.jpg', 'SDO_int290520.jpg', 'SDO_int290760.jpg', 'SDO_int290340.jpg', 'SDO_int291480.jpg', 'SDO_int290880.jpg', 'SDO_int291240.jpg', 'SDO_int290400.jpg', 'SDO_int291720.jpg', 'SDO_int290580.jpg', 'SDO_int290700.jpg', 'SDO_int291120.jpg', 'SDO_int290460.jpg', 'SDO_int290640.jpg']\n",
      "30\n",
      "['SDO_int290040.jpg', 'SDO_int290100.jpg', 'SDO_int290160.jpg', 'SDO_int290220.jpg', 'SDO_int290280.jpg', 'SDO_int290340.jpg', 'SDO_int290400.jpg', 'SDO_int290460.jpg', 'SDO_int290520.jpg', 'SDO_int290580.jpg', 'SDO_int290640.jpg', 'SDO_int290700.jpg', 'SDO_int290760.jpg', 'SDO_int290820.jpg', 'SDO_int290880.jpg', 'SDO_int290940.jpg', 'SDO_int291000.jpg', 'SDO_int291060.jpg', 'SDO_int291120.jpg', 'SDO_int291180.jpg', 'SDO_int291240.jpg', 'SDO_int291300.jpg', 'SDO_int291360.jpg', 'SDO_int291420.jpg', 'SDO_int291480.jpg', 'SDO_int291540.jpg', 'SDO_int291600.jpg', 'SDO_int291660.jpg', 'SDO_int291720.jpg', 'SDO_int291780.jpg']\n"
     ]
    }
   ],
   "source": [
    "batch_size = 1\n",
    "data_dir=\"sequences\"\n",
    "sequence=\"sequences/simulation_images\"\n",
    "sequence_length = len(os.listdir(sequence))\n",
    "\n",
    "# sanity check\n",
    "print(os.listdir(data_dir))\n",
    "print(os.listdir(sequence))\n",
    "print(sequence_length)\n",
    "\n",
    "print(sorted(os.listdir(sequence)))"
   ]
  },
  {
   "cell_type": "markdown",
   "metadata": {},
   "source": [
    "Functions used for Optical flow visualization.  \n",
    "The code comes from [Tomrunia's GitHub](https://github.com/tomrunia/OpticalFlow_Visualization \"OpticalFlow_Visualization\")"
   ]
  },
  {
   "cell_type": "markdown",
   "metadata": {},
   "source": [
    "## Using Dali\n",
    "### Define the Pipeline.  \n",
    "\n",
    "Read the data using Sequence reader (file_root needs to point to the toplevel `sequences` dir, not the `simulation_images` one!\n",
    "\n",
    "Files will be read in alphabetical order."
   ]
  },
  {
   "cell_type": "code",
   "execution_count": 4,
   "metadata": {},
   "outputs": [],
   "source": [
    "class OFPipeline(Pipeline):\n",
    "    def __init__(self, batch_size, num_threads, device_id):\n",
    "        super(OFPipeline, self).__init__(batch_size, num_threads, device_id, seed=16)\n",
    "\n",
    "#         self.input = ops.VideoReader(device=\"gpu\", filenames=video_filename, sequence_length=sequence_length)\n",
    "        self.input = ops.SequenceReader(file_root = data_dir, sequence_length = sequence_length)\n",
    "        self.of_op = ops.OpticalFlow(device=\"gpu\", output_format=4)\n",
    "\n",
    "    def define_graph(self):\n",
    "        seq = self.input(name=\"Reader\")\n",
    "        of = self.of_op(seq.gpu()) # need to transfer the files to GPU\n",
    "        return of"
   ]
  },
  {
   "cell_type": "markdown",
   "metadata": {},
   "source": [
    "### Build and run DALI Pipeline."
   ]
  },
  {
   "cell_type": "code",
   "execution_count": 5,
   "metadata": {},
   "outputs": [
    {
     "name": "stdout",
     "output_type": "stream",
     "text": [
      "(29, 66, 66, 2)\n"
     ]
    }
   ],
   "source": [
    "pipe = OFPipeline(batch_size=batch_size, num_threads=1, device_id=0)\n",
    "pipe.build()\n",
    "pipe_out = pipe.run()\n",
    "flow_vector = np.array(pipe_out[0].as_cpu()[0])\n",
    "print(flow_vector.shape)\n",
    "\n",
    "np.save(\"flow_vectors.npy\", flow_vector)"
   ]
  },
  {
   "cell_type": "markdown",
   "metadata": {},
   "source": [
    "flow_vector is numpy array, the first dimension is the index of the \"frame\" (we got one less than the inputs,\n",
    "\n",
    "\n",
    "### Visualize results"
   ]
  }
 ],
 "metadata": {
  "kernelspec": {
   "display_name": "Python 3",
   "language": "python",
   "name": "python3"
  },
  "language_info": {
   "codemirror_mode": {
    "name": "ipython",
    "version": 3
   },
   "file_extension": ".py",
   "mimetype": "text/x-python",
   "name": "python",
   "nbconvert_exporter": "python",
   "pygments_lexer": "ipython3",
   "version": "3.6.7"
  }
 },
 "nbformat": 4,
 "nbformat_minor": 4
}
