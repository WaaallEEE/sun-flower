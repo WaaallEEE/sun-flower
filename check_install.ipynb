{
 "cells": [
  {
   "cell_type": "code",
   "execution_count": 1,
   "id": "2f08205a-f82a-41a3-a63c-9ad3643c923c",
   "metadata": {},
   "outputs": [],
   "source": [
    "from astropy.io import fits\n",
    "from balltracking import balltrack as blt\n",
    "import numpy as np\n",
    "import test_inputs\n",
    "from pathlib import Path\n",
    "import fitstools"
   ]
  },
  {
   "cell_type": "code",
   "execution_count": 2,
   "id": "06763dfa-4404-4124-bbb8-a837e845d22b",
   "metadata": {},
   "outputs": [
    {
     "data": {
      "text/plain": [
       "True"
      ]
     },
     "execution_count": 2,
     "metadata": {},
     "output_type": "execute_result"
    }
   ],
   "source": [
    "import balltracking.balltrack as blt\n",
    "Path(test_inputs.datacube_file).exists()"
   ]
  },
  {
   "cell_type": "code",
   "execution_count": 3,
   "id": "0ae6630b-b0e4-438a-ae38-06900dc7a367",
   "metadata": {},
   "outputs": [
    {
     "data": {
      "text/plain": [
       "(512, 512)"
      ]
     },
     "execution_count": 3,
     "metadata": {},
     "output_type": "execute_result"
    }
   ],
   "source": [
    "datadir = \"/mnt/c/Users/attie/data/HMI/polar_study/\"\n",
    "hmif = datadir + \"mtrack_20110627_200034_TAI_20110628_000033_TAI_Postel_060.4_00.0_continuum.fits\"\n",
    "with fits.open(hmif) as hdul:  \n",
    "     # Download a single data array\n",
    "    sample = hdul[-1].section[0, :, :]\n",
    "\n",
    "sample.shape"
   ]
  },
  {
   "cell_type": "code",
   "execution_count": null,
   "id": "619ef5b8-f942-4610-8a0f-0cf6e62de1bd",
   "metadata": {},
   "outputs": [],
   "source": [
    "_ = blt.full_calibration(test_inputs.datacube_file, test_inputs.bt_params, test_inputs.cal_args, test_inputs.cal_opt_args, verbose=True)\n",
    "\n",
    "print('success! Bravo!')"
   ]
  },
  {
   "cell_type": "code",
   "execution_count": null,
   "id": "6ddbb4e8-4466-44f5-83ca-e5efb66cb560",
   "metadata": {},
   "outputs": [],
   "source": []
  }
 ],
 "metadata": {
  "kernelspec": {
   "display_name": "Python 3 (ipykernel)",
   "language": "python",
   "name": "python3"
  },
  "language_info": {
   "codemirror_mode": {
    "name": "ipython",
    "version": 3
   },
   "file_extension": ".py",
   "mimetype": "text/x-python",
   "name": "python",
   "nbconvert_exporter": "python",
   "pygments_lexer": "ipython3",
   "version": "3.10.12"
  }
 },
 "nbformat": 4,
 "nbformat_minor": 5
}
