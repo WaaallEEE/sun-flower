{
 "cells": [
  {
   "cell_type": "code",
   "execution_count": null,
   "metadata": {},
   "outputs": [],
   "source": [
    "import os, glob\n",
    "from pathlib import Path\n",
    "import pandas as pd\n",
    "import numpy as np\n",
    "import matplotlib.pyplot as plt\n",
    "from IPython.display import display\n",
    "pd.options.display.max_columns=None\n",
    "pd.options.display.max_rows=None"
   ]
  },
  {
   "cell_type": "code",
   "execution_count": null,
   "metadata": {},
   "outputs": [],
   "source": [
    "ibisdir = Path(os.environ['DATA'], 'Ben', 'IBIS', 'white_light')\n",
    "calfile = str(ibisdir.joinpath('calibration_rs4', 'param_sweep_boxcar_fwhm37.csv'))\n",
    "df = pd.read_csv(calfile)\n",
    "print(df.keys()[14:25], df.keys()[25:36])\n",
    "vdrift = np.arange(-1, 1.1, 0.2)\n",
    "vtop4 = df.iloc[0,14:25]\n",
    "vbot4 = df.iloc[0,25:36]"
   ]
  },
  {
   "cell_type": "code",
   "execution_count": null,
   "metadata": {},
   "outputs": [],
   "source": [
    "calfile = str(ibisdir.joinpath('calibration_rs8', 'param_sweep_boxcar_fwhm37.csv'))\n",
    "df = pd.read_csv(calfile)\n",
    "print(df.keys()[14:25], df.keys()[25:36])\n",
    "display(df)\n",
    "vdrift = np.arange(-1, 1.1, 0.2)\n",
    "vtop8 = df.iloc[0,14:25]\n",
    "vbot8 = df.iloc[0,25:36]"
   ]
  },
  {
   "cell_type": "code",
   "execution_count": null,
   "metadata": {},
   "outputs": [],
   "source": [
    "FS = 16\n",
    "plt.figure(figsize=(10,10))\n",
    "plt.plot(vdrift, vtop4.values, 'b+-', label='Rs = 4px')\n",
    "plt.plot(vdrift, vtop8.values, 'co-', label='Rs = 8px')\n",
    "plt.xlabel('Imposed drift (px/frame)', fontsize=FS)\n",
    "plt.ylabel('Measured mean velocity (px/frame)', fontsize=FS)\n",
    "plt.axis([-1, 1, -1, 1])\n",
    "plt.grid()\n",
    "plt.legend()"
   ]
  },
  {
   "cell_type": "code",
   "execution_count": null,
   "metadata": {},
   "outputs": [],
   "source": [
    "calfiles = list(ibisdir.rglob('calibration_rs8_*/param_sweep_*.csv'))\n",
    "calfiles"
   ]
  },
  {
   "cell_type": "code",
   "execution_count": null,
   "metadata": {},
   "outputs": [],
   "source": [
    "# Concatenate all csv file content into one dataframe\n",
    "df_list = [pd.read_csv(f) for f in calfiles]\n",
    "df0 = df_list[0]\n",
    "display(df0)\n",
    "vtop8 = df0.iloc[:,14:25]\n",
    "display(vtop8)"
   ]
  },
  {
   "cell_type": "code",
   "execution_count": null,
   "metadata": {},
   "outputs": [],
   "source": [
    "vdrift = np.arange(-0.5, 0.51, 0.1)\n",
    "df_list2 = []\n",
    "for df in df_list:\n",
    "    vtop = df.iloc[:, 14:25]\n",
    "    vbot = df.iloc[:, 14:25]\n",
    "    df2 = df.iloc[:,0:14].drop(columns=['index', 'fwhm']).loc[df.index.repeat(11)]\n",
    "    df2['vx_drift'] = vdrift\n",
    "    df2['vx_top'] = vtop.iloc[0,:].values\n",
    "    df_list2.append(df2)\n",
    "\n",
    "df = pd.concat(df_list2, axis=0, ignore_index=True)"
   ]
  },
  {
   "cell_type": "code",
   "execution_count": null,
   "metadata": {},
   "outputs": [],
   "source": [
    "df"
   ]
  },
  {
   "cell_type": "code",
   "execution_count": null,
   "metadata": {},
   "outputs": [],
   "source": [
    "import seaborn as sns\n",
    "sns.set(font_scale=2)\n",
    "sns.set_style(\"white\")"
   ]
  },
  {
   "cell_type": "code",
   "execution_count": null,
   "metadata": {},
   "outputs": [],
   "source": [
    "#plt.figure(figsize=(10,10))\n",
    "lm = sns.lmplot(data=df, x='vx_drift', y='vx_top', hue='sigma_factor', col='fourier_radius', sharex=True, sharey=True, height=10, legend_out=False)\n",
    "#plt.axis([-0.5, 0.5, -0.5, 0.5])\n",
    "lm.axes[0,0].grid()\n",
    "lm.axes[0,1].grid()"
   ]
  },
  {
   "cell_type": "code",
   "execution_count": null,
   "metadata": {},
   "outputs": [],
   "source": [
    "p_top_0 = df[df['fourier_radius']==10.0].drop_duplicates('p_top_0').sort_values(by=['sigma_factor'])['p_top_0']\n",
    "p_top_0"
   ]
  },
  {
   "cell_type": "code",
   "execution_count": null,
   "metadata": {},
   "outputs": [],
   "source": [
    "lm = sns.lmplot(data=df[df['fourier_radius']==10.0], x='vx_top', y='vx_drift', hue='sigma_factor', height=10, legend_out=False)\n",
    "lm.axes[0,0].grid()\n",
    "leg = lm.axes.flat[0].get_legend()\n",
    "leg.set_title(r'[$\\sigma_m$: modifier to the stand. dev.]')\n",
    "tempdf = df[df['fourier_radius']==10.0].drop_duplicates('p_top_0').sort_values(by=['sigma_factor'])\n",
    "new_labels = [fr'$\\sigma_m$ = {row[\"sigma_factor\"]}; slope = {row[\"p_top_0\"]:.2f}' for _, row in tempdf.iterrows()]\n",
    "for t, l in zip(leg.texts, new_labels): t.set_text(l)\n",
    "plt.title(r'$R_s$ = 8 px - Fourier filtering @ 1/(10 px)')"
   ]
  },
  {
   "cell_type": "code",
   "execution_count": null,
   "metadata": {},
   "outputs": [],
   "source": []
  },
  {
   "cell_type": "code",
   "execution_count": null,
   "metadata": {},
   "outputs": [],
   "source": [
    "for index, row in tempdf.iterrows():\n",
    "    print(row['sigma_factor'])"
   ]
  },
  {
   "cell_type": "code",
   "execution_count": null,
   "metadata": {},
   "outputs": [],
   "source": [
    "df.drop_duplicates('p_top_0').sort_values(by=['sigma_factor'])"
   ]
  },
  {
   "cell_type": "code",
   "execution_count": null,
   "metadata": {},
   "outputs": [],
   "source": []
  }
 ],
 "metadata": {
  "kernelspec": {
   "display_name": "Python 3",
   "language": "python",
   "name": "python3"
  },
  "language_info": {
   "codemirror_mode": {
    "name": "ipython",
    "version": 3
   },
   "file_extension": ".py",
   "mimetype": "text/x-python",
   "name": "python",
   "nbconvert_exporter": "python",
   "pygments_lexer": "ipython3",
   "version": "3.8.5"
  }
 },
 "nbformat": 4,
 "nbformat_minor": 4
}
