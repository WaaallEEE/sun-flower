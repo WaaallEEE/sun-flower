{
 "cells": [
  {
   "cell_type": "code",
   "execution_count": 1,
   "metadata": {},
   "outputs": [],
   "source": [
    "import balltracking.balltrack as blt\n",
    "import os, glob\n",
    "import fitsio\n",
    "from scipy.ndimage.filters import gaussian_filter \n",
    "from scipy.signal import convolve2d\n",
    "from scipy.io import readsav\n",
    "import numpy as np\n",
    "import matplotlib\n",
    "#matplotlib.use('tkagg')\n",
    "import matplotlib.pyplot as plt\n",
    "# Load FLCT\n",
    "from pathlib import Path\n",
    "from IPython import display\n",
    "import time\n",
    "\n",
    "matplotlib.rcParams.update({'font.size': 14})\n",
    "matplotlib.rcParams.update({'xtick.labelsize': 12, 'ytick.labelsize': 12})"
   ]
  },
  {
   "cell_type": "code",
   "execution_count": 2,
   "metadata": {},
   "outputs": [
    {
     "name": "stdout",
     "output_type": "stream",
     "text": [
      "number of time-averaged flow maps:  67\n"
     ]
    }
   ],
   "source": [
    "def load_vel_mean(v_files, trange):\n",
    "    \"Load the velocity files and average over a time range\"\n",
    "    vxs = []\n",
    "    vys = []\n",
    "    vx_files_subset = v_files[0][trange[0]:trange[1]]\n",
    "    vy_files_subset = v_files[1][trange[0]:trange[1]]\n",
    "    for vxf, vyf in zip(vx_files_subset, vy_files_subset):\n",
    "        vxs.append(fitsio.read(vxf))\n",
    "        vys.append(fitsio.read(vyf))\n",
    "    # Get the mean of the velocity components\n",
    "    vx = np.array(vxs).mean(axis=0)\n",
    "    vy = np.array(vys).mean(axis=0)\n",
    "    return vx, vy\n",
    "\n",
    "\n",
    "def smooth_vel(vxs, vys, fwhm, kernel='boxcar'):\n",
    "    \"\"\" Smooth the velocity with a smoothing kernel that can either be: \n",
    "     - boxcar: width set to fwhm\n",
    "     - gaussian: parametrized by fwhm. \n",
    "     \n",
    "     Returns the smoothed velocity components\n",
    "    \"\"\" \n",
    "    \n",
    "    if kernel == 'boxcar':\n",
    "        box = np.ones([fwhm, fwhm]) / fwhm**2\n",
    "        vxs2 = convolve2d(vxs, box, mode='same')\n",
    "        vys2 = convolve2d(vys, box, mode='same')\n",
    "    elif kernel == 'gaussian':\n",
    "        sigma = fwhm / 2.35\n",
    "        vxs2 = gaussian_filter(vxs, sigma=sigma, order=0)\n",
    "        vys2 = gaussian_filter(vys, sigma=sigma, order=0)\n",
    "        \n",
    "    return vxs2, vys2\n",
    "\n",
    "\n",
    "# For FLCT\n",
    "def read_vi(file, data_str):\n",
    "    idl_dict = readsav(file)\n",
    "    vi = idl_dict[data_str]\n",
    "    return vi\n",
    "\n",
    "\n",
    "def calc_c_pearson(vx1, vx2, vy1, vy2, fov=None):\n",
    "    vx1f, vx2f, vy1f, vy2f = vx1[fov], vx2[fov], vy1[fov], vy2[fov]\n",
    "    c_pearson = np.sum(vx1f*vx2f + vy1f*vy2f) / np.sqrt(np.sum(vx1f**2 + vy1f**2)*np.sum(vx2f**2 + vy2f**2))\n",
    "    return c_pearson\n",
    "\n",
    "\n",
    "datadir = os.path.join(os.environ['DATA'], 'Ben/SteinSDO')\n",
    "outputdir = os.path.join(datadir, 'comparisons/FWHM_7px')\n",
    "\n",
    "u = 368000 / 60\n",
    "\n",
    "fwhm = 7\n",
    "kernel = 'boxcar'\n",
    "dims = [263, 263]\n",
    "# Select a subfield excluding edge effects\n",
    "# Use same padding size as in Tremblay et al. 2018 used pad = 10\n",
    "pad = 10\n",
    "step = fwhm\n",
    "fov = np.s_[pad:-pad:step, pad:-pad:step]\n",
    "\n",
    "nframes = range(30, 365, 5)\n",
    "tranges = [[0, nt] for nt in range(30, 365, 5)]\n",
    "nflows = len(tranges)\n",
    "print(\"number of time-averaged flow maps: \", nflows)"
   ]
  },
  {
   "cell_type": "code",
   "execution_count": 8,
   "metadata": {},
   "outputs": [],
   "source": [
    "# Load Stein data\n",
    "svx_files = sorted(glob.glob(os.path.join(datadir,'SDO_vx*.fits')))\n",
    "svy_files = sorted(glob.glob(os.path.join(datadir,'SDO_vy*.fits')))\n",
    "\n",
    "vx_stein_l, vy_stein_l = zip(*[load_vel_mean((svx_files, svy_files), trange) for trange in tranges])\n",
    "# smooth the Stein velocities \n",
    "vx_stein_sm, vy_stein_sm = zip(*[smooth_vel(vx, vy, fwhm, kernel='boxcar') for vx, vy in zip(vx_stein_l, vy_stein_l)])\n",
    "# Crop\n",
    "vx_stein_sm = [vx[fov] for vx in vx_stein_sm]\n",
    "vy_stein_sm = [vy[fov] for vy in vy_stein_sm]"
   ]
  },
  {
   "cell_type": "code",
   "execution_count": 10,
   "metadata": {},
   "outputs": [
    {
     "name": "stdout",
     "output_type": "stream",
     "text": [
      "nb of FLCT maps =  363\n"
     ]
    }
   ],
   "source": [
    "# Load FLCT with sigma = 4 px which is equivalent to FWHM = 7 px\n",
    "datadir_flct = os.path.expanduser('~/Data/Ben/SteinSDO/FLCT_Raphael/output_FLCT_sigma4')\n",
    "fvx_files = sorted((glob.glob(os.path.join(datadir_flct, 'FLCT_vx*.fits'))))\n",
    "fvy_files = sorted((glob.glob(os.path.join(datadir_flct, 'FLCT_vy*.fits'))))\n",
    "# Average over time\n",
    "fvxs, fvys = zip(*[load_vel_mean((fvx_files, fvy_files), trange) for trange in tranges])\n",
    "# Crop\n",
    "fvxs = [vx[fov] for vx in fvxs]\n",
    "fvys = [vy[fov] for vy in fvys]\n",
    "print('nb of FLCT maps = ', len(fvx_files))"
   ]
  },
  {
   "cell_type": "code",
   "execution_count": 11,
   "metadata": {},
   "outputs": [],
   "source": [
    "# Fit FLCT to stein data. \n",
    "fps, frs, _, _, _ = zip(*[np.polyfit(fvxs[i].ravel()*u, vx_stein_sm[i].ravel(), 1, full=True) for i in range(nflows)])\n",
    "npts = vx_stein_sm[0].size\n",
    "frs = [np.sqrt(fr[0]/npts) for fr in frs]\n"
   ]
  },
  {
   "cell_type": "code",
   "execution_count": null,
   "metadata": {},
   "outputs": [],
   "source": []
  }
 ],
 "metadata": {
  "kernelspec": {
   "display_name": "Python 3",
   "language": "python",
   "name": "python3"
  },
  "language_info": {
   "codemirror_mode": {
    "name": "ipython",
    "version": 3
   },
   "file_extension": ".py",
   "mimetype": "text/x-python",
   "name": "python",
   "nbconvert_exporter": "python",
   "pygments_lexer": "ipython3",
   "version": "3.6.7"
  }
 },
 "nbformat": 4,
 "nbformat_minor": 4
}
