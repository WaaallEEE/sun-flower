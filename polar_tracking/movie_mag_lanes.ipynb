{
 "cells": [
  {
   "cell_type": "code",
   "execution_count": 44,
   "metadata": {},
   "outputs": [],
   "source": [
    "import fitsio\n",
    "import balltracking.balltrack as blt\n",
    "import os, glob\n",
    "import fitsio\n",
    "from scipy.ndimage.filters import gaussian_filter \n",
    "from scipy.signal import convolve2d\n",
    "from scipy.io import readsav\n",
    "import numpy as np\n",
    "import matplotlib\n",
    "matplotlib.use('agg')\n",
    "from matplotlib import cm\n",
    "import matplotlib.pyplot as plt\n",
    "# Load FLCT\n",
    "from pathlib import Path\n",
    "import time\n",
    "import numpy as np\n",
    "\n",
    "matplotlib.rcParams.update({'font.size': 14})\n",
    "matplotlib.rcParams.update({'xtick.labelsize': 12, 'ytick.labelsize': 12})"
   ]
  },
  {
   "cell_type": "code",
   "execution_count": 70,
   "metadata": {},
   "outputs": [],
   "source": [
    "lon_lats = [(60.4, 0), (60.4, 60), (60.4, 70), (0, 0), (350, 0)]\n",
    "nevents = len(lon_lats)\n",
    "basenames = ['mtrack_20110627_200034_TAI_20110628_000033_TAI_Postel_{:05.1f}_{:04.1f}_magnetogram.fits'\n",
    "                 .format(lon_lat[0], lon_lat[1]) for lon_lat in lon_lats]\n",
    "# Get the intensity files\n",
    "magfiles = [os.path.join(os.environ['DATA'], 'SDO/HMI/polar_study/', basename) for basename in basenames]\n",
    "lanesdirs = [os.path.join(os.environ['DATA'], 'SDO/HMI/polar_study/lonCR_{:05.1f}_lat_{:04.1f}'.format(lon_lat[0], lon_lat[1]))\n",
    "                for lon_lat in lon_lats]\n"
   ]
  },
  {
   "cell_type": "code",
   "execution_count": 71,
   "metadata": {},
   "outputs": [
    {
     "name": "stdout",
     "output_type": "stream",
     "text": [
      "[[0, 40], [0, 80], [0, 120], [0, 160], [0, 200], [0, 240], [0, 280], [0, 320]]\n"
     ]
    }
   ],
   "source": [
    "fwhm = 11\n",
    "nframes = 320\n",
    "tavgs = range(40,nframes+1,40)\n",
    "tranges = [[0, tavg] for tavg in tavgs]\n",
    "print(tranges)\n",
    "nflows = len(tranges)"
   ]
  },
  {
   "cell_type": "code",
   "execution_count": 84,
   "metadata": {},
   "outputs": [
    {
     "name": "stdout",
     "output_type": "stream",
     "text": [
      "processing lanesdir:  /Users/rattie/Data/SDO/HMI/polar_study/lonCR_060.4_lat_70.0\n",
      "30\n",
      "/Users/rattie/Data/SDO/HMI/polar_study/lonCR_060.4_lat_70.0/lanes_mag_0.png\n",
      "60\n",
      "/Users/rattie/Data/SDO/HMI/polar_study/lonCR_060.4_lat_70.0/lanes_mag_1.png\n",
      "90\n",
      "/Users/rattie/Data/SDO/HMI/polar_study/lonCR_060.4_lat_70.0/lanes_mag_2.png\n",
      "120\n",
      "/Users/rattie/Data/SDO/HMI/polar_study/lonCR_060.4_lat_70.0/lanes_mag_3.png\n",
      "150\n",
      "/Users/rattie/Data/SDO/HMI/polar_study/lonCR_060.4_lat_70.0/lanes_mag_4.png\n",
      "180\n",
      "/Users/rattie/Data/SDO/HMI/polar_study/lonCR_060.4_lat_70.0/lanes_mag_5.png\n",
      "210\n",
      "/Users/rattie/Data/SDO/HMI/polar_study/lonCR_060.4_lat_70.0/lanes_mag_6.png\n",
      "240\n",
      "/Users/rattie/Data/SDO/HMI/polar_study/lonCR_060.4_lat_70.0/lanes_mag_7.png\n",
      "processing lanesdir:  /Users/rattie/Data/SDO/HMI/polar_study/lonCR_000.0_lat_00.0\n",
      "30\n",
      "/Users/rattie/Data/SDO/HMI/polar_study/lonCR_000.0_lat_00.0/lanes_mag_0.png\n",
      "60\n",
      "/Users/rattie/Data/SDO/HMI/polar_study/lonCR_000.0_lat_00.0/lanes_mag_1.png\n",
      "90\n",
      "/Users/rattie/Data/SDO/HMI/polar_study/lonCR_000.0_lat_00.0/lanes_mag_2.png\n",
      "120\n",
      "/Users/rattie/Data/SDO/HMI/polar_study/lonCR_000.0_lat_00.0/lanes_mag_3.png\n",
      "150\n",
      "/Users/rattie/Data/SDO/HMI/polar_study/lonCR_000.0_lat_00.0/lanes_mag_4.png\n",
      "180\n",
      "/Users/rattie/Data/SDO/HMI/polar_study/lonCR_000.0_lat_00.0/lanes_mag_5.png\n",
      "210\n",
      "/Users/rattie/Data/SDO/HMI/polar_study/lonCR_000.0_lat_00.0/lanes_mag_6.png\n",
      "240\n",
      "/Users/rattie/Data/SDO/HMI/polar_study/lonCR_000.0_lat_00.0/lanes_mag_7.png\n",
      "processing lanesdir:  /Users/rattie/Data/SDO/HMI/polar_study/lonCR_350.0_lat_00.0\n",
      "30\n",
      "/Users/rattie/Data/SDO/HMI/polar_study/lonCR_350.0_lat_00.0/lanes_mag_0.png\n",
      "60\n",
      "/Users/rattie/Data/SDO/HMI/polar_study/lonCR_350.0_lat_00.0/lanes_mag_1.png\n",
      "90\n",
      "/Users/rattie/Data/SDO/HMI/polar_study/lonCR_350.0_lat_00.0/lanes_mag_2.png\n",
      "120\n",
      "/Users/rattie/Data/SDO/HMI/polar_study/lonCR_350.0_lat_00.0/lanes_mag_3.png\n",
      "150\n",
      "/Users/rattie/Data/SDO/HMI/polar_study/lonCR_350.0_lat_00.0/lanes_mag_4.png\n",
      "180\n",
      "/Users/rattie/Data/SDO/HMI/polar_study/lonCR_350.0_lat_00.0/lanes_mag_5.png\n",
      "210\n",
      "/Users/rattie/Data/SDO/HMI/polar_study/lonCR_350.0_lat_00.0/lanes_mag_6.png\n",
      "240\n",
      "/Users/rattie/Data/SDO/HMI/polar_study/lonCR_350.0_lat_00.0/lanes_mag_7.png\n"
     ]
    }
   ],
   "source": [
    "x = np.arange(512) * 368/1000\n",
    "y = x\n",
    "for idx, lanesdir in enumerate(lanesdirs[-3:]):\n",
    "#     idx = 0\n",
    "#     lanesdir = lanesdirs[idx]\n",
    "    print('processing lanesdir: ', lanesdir)\n",
    "    magfile = magfiles[idx]\n",
    "    # Get all the lanes files at 11 px\n",
    "    lanes_files = sorted(glob.glob(os.path.join(lanesdir, 'lanes_fwhm{:d}*.fits'.format(fwhm))))\n",
    "    # Average of unsigned flux at increasing time averages\n",
    "    mag = fitsio.read(magfile)\n",
    "\n",
    "    for i,trange in enumerate(tranges):\n",
    "    # i = 7\n",
    "    # trange = tranges[i]\n",
    "        tavg_min = int(np.round(trange[1]*45/60))\n",
    "        print(tavg_min)\n",
    "        lanes = fitsio.read(lanes_files[i])\n",
    "\n",
    "        mag_abs = np.abs(mag)\n",
    "        mag_abs_avg = mag_abs[trange[0]:trange[1], ...].mean(axis=0)\n",
    "\n",
    "\n",
    "        plt.figure(figsize=(10,10))\n",
    "        plt.imshow(lanes, cmap='gray_r', origin='lower', extent=(0, x[-1], 0, y[-1]))\n",
    "        plt.contourf(mag_abs_avg, np.linspace(30,1000,10), colors ='red', extent=(0, x[-1], 0, y[-1]))\n",
    "        plt.xlabel('X [Mm]', fontsize=12)\n",
    "        plt.ylabel('Y [Mm]', fontsize=12)\n",
    "        plt.title('FWHM = 4 Mm   Time average = {:d} min'.format(tavg_min), fontsize=12)\n",
    "        plt.tight_layout()\n",
    "        figf = os.path.join(lanesdir, 'lanes_mag_{:d}.png'.format(i))\n",
    "        plt.savefig(figf, dpi=300)\n",
    "        print(figf)\n",
    "        plt.close()"
   ]
  },
  {
   "cell_type": "code",
   "execution_count": 85,
   "metadata": {},
   "outputs": [
    {
     "name": "stdout",
     "output_type": "stream",
     "text": [
      "processing lanesdir:  /Users/rattie/Data/SDO/HMI/polar_study/lonCR_000.0_lat_00.0\n",
      "/Users/rattie/Data/SDO/HMI/polar_study/lonCR_000.0_lat_00.0/lanes_0.png\n",
      "/Users/rattie/Data/SDO/HMI/polar_study/lonCR_000.0_lat_00.0/lanes_1.png\n",
      "/Users/rattie/Data/SDO/HMI/polar_study/lonCR_000.0_lat_00.0/lanes_2.png\n",
      "/Users/rattie/Data/SDO/HMI/polar_study/lonCR_000.0_lat_00.0/lanes_3.png\n",
      "/Users/rattie/Data/SDO/HMI/polar_study/lonCR_000.0_lat_00.0/lanes_4.png\n",
      "/Users/rattie/Data/SDO/HMI/polar_study/lonCR_000.0_lat_00.0/lanes_5.png\n",
      "/Users/rattie/Data/SDO/HMI/polar_study/lonCR_000.0_lat_00.0/lanes_6.png\n",
      "/Users/rattie/Data/SDO/HMI/polar_study/lonCR_000.0_lat_00.0/lanes_7.png\n",
      "processing lanesdir:  /Users/rattie/Data/SDO/HMI/polar_study/lonCR_350.0_lat_00.0\n",
      "/Users/rattie/Data/SDO/HMI/polar_study/lonCR_350.0_lat_00.0/lanes_0.png\n",
      "/Users/rattie/Data/SDO/HMI/polar_study/lonCR_350.0_lat_00.0/lanes_1.png\n",
      "/Users/rattie/Data/SDO/HMI/polar_study/lonCR_350.0_lat_00.0/lanes_2.png\n",
      "/Users/rattie/Data/SDO/HMI/polar_study/lonCR_350.0_lat_00.0/lanes_3.png\n",
      "/Users/rattie/Data/SDO/HMI/polar_study/lonCR_350.0_lat_00.0/lanes_4.png\n",
      "/Users/rattie/Data/SDO/HMI/polar_study/lonCR_350.0_lat_00.0/lanes_5.png\n",
      "/Users/rattie/Data/SDO/HMI/polar_study/lonCR_350.0_lat_00.0/lanes_6.png\n",
      "/Users/rattie/Data/SDO/HMI/polar_study/lonCR_350.0_lat_00.0/lanes_7.png\n"
     ]
    }
   ],
   "source": [
    "# Without magnetic flux\n",
    "\n",
    "for idx, lanesdir in enumerate(lanesdirs[-2:]):\n",
    "#     idx = 0\n",
    "#     lanesdir = lanesdirs[idx]\n",
    "    print('processing lanesdir: ', lanesdir)\n",
    "    # Get all the lanes files at 11 px\n",
    "    lanes_files = sorted(glob.glob(os.path.join(lanesdir, 'lanes_fwhm{:d}*.fits'.format(fwhm))))\n",
    "    # Average of unsigned flux at increasing time averages\n",
    "    for i,trange in enumerate(tranges):\n",
    "    # i = 7\n",
    "    # trange = tranges[i]\n",
    "        tavg_min = int(np.round(trange[1]*45/60))\n",
    "        lanes = fitsio.read(lanes_files[i])\n",
    "\n",
    "        plt.figure(figsize=(10,10))\n",
    "        plt.imshow(lanes, cmap='gray_r', origin='lower', extent=(0, x[-1], 0, y[-1]))\n",
    "        plt.xlabel('X [Mm]', fontsize=12)\n",
    "        plt.ylabel('Y [Mm]', fontsize=12)\n",
    "        plt.title('FWHM = 4 Mm   Time average = {:d} min'.format(tavg_min), fontsize=12)\n",
    "        plt.tight_layout()\n",
    "        figf = os.path.join(lanesdir, 'lanes_{:d}.png'.format(i))\n",
    "        plt.savefig(figf, dpi=300)\n",
    "        print(figf)\n",
    "        plt.close()"
   ]
  },
  {
   "cell_type": "code",
   "execution_count": null,
   "metadata": {},
   "outputs": [],
   "source": []
  }
 ],
 "metadata": {
  "kernelspec": {
   "display_name": "Python 3",
   "language": "python",
   "name": "python3"
  },
  "language_info": {
   "codemirror_mode": {
    "name": "ipython",
    "version": 3
   },
   "file_extension": ".py",
   "mimetype": "text/x-python",
   "name": "python",
   "nbconvert_exporter": "python",
   "pygments_lexer": "ipython3",
   "version": "3.6.7"
  }
 },
 "nbformat": 4,
 "nbformat_minor": 2
}
