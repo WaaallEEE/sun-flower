{
 "cells": [
  {
   "cell_type": "code",
   "execution_count": 1,
   "metadata": {},
   "outputs": [],
   "source": [
    "import fitsio\n",
    "import numpy as np\n",
    "from tvtk.api import tvtk, write_data"
   ]
  },
  {
   "cell_type": "code",
   "execution_count": 43,
   "metadata": {},
   "outputs": [
    {
     "data": {
      "text/plain": [
       "((512, 512, 2), (512, 512, 2), (512, 512, 2))"
      ]
     },
     "execution_count": 43,
     "metadata": {},
     "output_type": "execute_result"
    }
   ],
   "source": [
    "vxf = '/home/rattie/Data/flow_samples/vx_fwhm15_tavg160_000.fits' \n",
    "vyf = '/home/rattie/Data/flow_samples/vy_fwhm15_tavg160_000.fits'  \n",
    "u = 368000/60\n",
    "vx = fitsio.read(vxf)*u\n",
    "vy = fitsio.read(vyf)*u\n",
    "dim = vx.shape\n",
    "\n",
    "\n",
    "vx = np.moveaxis(np.array([vx.T, np.zeros(dim)]), 0, 2)\n",
    "vy = np.moveaxis(np.array([vy.T, np.zeros(dim)]), 0, 2)\n",
    "vz = np.zeros(vx.shape)\n",
    "\n",
    "dim=vx.shape\n",
    "vx.shape, vy.shape, vz.shape"
   ]
  },
  {
   "cell_type": "code",
   "execution_count": 44,
   "metadata": {},
   "outputs": [],
   "source": [
    "xx,yy,zz=np.mgrid[0:dim[0],0:dim[1],0:dim[2]]\n",
    "pts = np.empty(vx.shape + (3,), dtype=int)\n",
    "pts[..., 0] = xx\n",
    "pts[..., 1] = yy\n",
    "pts[..., 2] = zz\n",
    "\n",
    "vectors = np.empty(vx.shape + (3,), dtype=float)\n",
    "vectors[..., 0] = vx\n",
    "vectors[..., 1] = vy\n",
    "vectors[..., 2] = vz\n"
   ]
  },
  {
   "cell_type": "code",
   "execution_count": 45,
   "metadata": {},
   "outputs": [],
   "source": [
    "# We reorder the points and vectors so this is as per VTK's\n",
    "# requirement of x first, y next and z last.\n",
    "pts = pts.transpose(2, 1, 0, 3).copy()\n",
    "pts.shape = pts.size // 3, 3"
   ]
  },
  {
   "cell_type": "code",
   "execution_count": 46,
   "metadata": {},
   "outputs": [],
   "source": [
    "vectors = vectors.transpose(2, 1, 0, 3).copy()\n",
    "vectors.shape = vectors.size // 3, 3"
   ]
  },
  {
   "cell_type": "code",
   "execution_count": 47,
   "metadata": {},
   "outputs": [],
   "source": [
    "sg = tvtk.StructuredGrid(dimensions=xx.shape, points=pts)\n",
    "\n",
    "sg.point_data.vectors = vectors\n",
    "sg.point_data.vectors.name = 'velocity'\n",
    "\n",
    "write_data(sg, 'vtktest_t_u.vtk')"
   ]
  },
  {
   "cell_type": "code",
   "execution_count": null,
   "metadata": {},
   "outputs": [],
   "source": []
  }
 ],
 "metadata": {
  "kernelspec": {
   "display_name": "Python 3",
   "language": "python",
   "name": "python3"
  },
  "language_info": {
   "codemirror_mode": {
    "name": "ipython",
    "version": 3
   },
   "file_extension": ".py",
   "mimetype": "text/x-python",
   "name": "python",
   "nbconvert_exporter": "python",
   "pygments_lexer": "ipython3",
   "version": "3.6.10"
  }
 },
 "nbformat": 4,
 "nbformat_minor": 4
}
