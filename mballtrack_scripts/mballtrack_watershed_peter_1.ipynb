{
 "cells": [
  {
   "cell_type": "code",
   "execution_count": 1,
   "metadata": {},
   "outputs": [],
   "source": [
    "import numpy as np\n",
    "import fitstools\n",
    "import matplotlib.pyplot as plt\n",
    "from matplotlib.colors import LinearSegmentedColormap\n",
    "import balltracking.mballtrack as mblt\n",
    "from skimage.exposure import rescale_intensity\n",
    "import glob\n",
    "from pathlib import PurePath\n",
    "DTYPE = np.float32"
   ]
  },
  {
   "cell_type": "code",
   "execution_count": 2,
   "metadata": {},
   "outputs": [],
   "source": [
    "def custom_cmap():\n",
    "\n",
    "    # ## Custom colors => This must add a unique color for the background\n",
    "    colors = plt.cm.Set1_r(np.linspace(0, 1, 9))\n",
    "    # colors = plt.cm.Dark2(np.linspace(0, 1, 8))\n",
    "    # # light gray color\n",
    "    gray = np.array([[220, 220, 220, 255]]) / 255\n",
    "\n",
    "    nballs = mbt_p.nballs + mbt_n.nballs\n",
    "    cmap = matplotlib.colors.ListedColormap(colors, name='mycmap', N=nballs)\n",
    "    colors2 = np.array([cmap(i) for i in range(nballs)])\n",
    "    # Add unique background color\n",
    "    colors2 = np.concatenate((gray, colors2), axis=0)\n",
    "    cmap2 = matplotlib.colors.ListedColormap(colors2, name='mycmap2')\n",
    "\n",
    "    return cmap2\n",
    "\n",
    "\n",
    "def plot_mballtrack(args, datafiles, outputdir):\n",
    "    pos_p, pos_n, watershed_labels, borders, i = args\n",
    "\n",
    "    data = fitstools.fitsread(datafiles, tslice=i).astype(DTYPE)\n",
    "\n",
    "\n",
    "    plt.figure(figsize=(18, 8))\n",
    "\n",
    "    plt.subplot(131)\n",
    "    plt.imshow(data, cmap='gray', vmin=-100, vmax=100)\n",
    "    #plt.colorbar()\n",
    "    maskp = pos_p[0, :] > 0\n",
    "    maskn = pos_n[0, :] > 0\n",
    "    plt.scatter(pos_p[0, maskp], pos_p[1, maskp],marker='.', s=2, color='red')\n",
    "    plt.scatter(pos_n[0, maskn], pos_n[1, maskn],marker='.', s=2, color='cyan')\n",
    "\n",
    "    plt.xlabel('Lambert cyl. X')\n",
    "    plt.ylabel('Lambert cyl. Y')\n",
    "\n",
    "\n",
    "    plt.subplot(132)\n",
    "    #bkg_gray = np.full([*data.shape, 3], 220, dtype=np.uint8)\n",
    "    bkg_gray = rescale_intensity(np.tile(data[..., np.newaxis], (1,1,3)), in_range=(-100,100), out_range=np.uint8).astype(np.uint8)\n",
    "    borders_rgb = bkg_gray.copy()\n",
    "    # Color positive borders as red\n",
    "    borders_rgb[borders == 1, 0] = 255\n",
    "    borders_rgb[borders == 1, 1] = 0\n",
    "    borders_rgb[borders == 1, 2] = 0\n",
    "    # Color negative borders as cyan (accounting for color blindness)\n",
    "    borders_rgb[borders == -1, 0] = 175\n",
    "    borders_rgb[borders == -1, 1] = 238\n",
    "    borders_rgb[borders == -1, 2] = 238\n",
    "\n",
    "    #borders_rgb = np.concatenate((borders_red, borders_green, bkg_blue), axis=2)\n",
    "    #plt.imshow(data, cmap='gray', vmin=-100, vmax=100)\n",
    "    #plt.imshow(borders, vmin=0, vmax=1, origin='lower', cmap='Blues')\n",
    "    plt.imshow(borders_rgb, origin='lower')\n",
    "    plt.scatter(pos_p[0, maskp], pos_p[1, maskp], marker='.', s=2, color='red')\n",
    "    # plt.text(x + 1, y + 1, '%d' % target, fontsize=8)\n",
    "    plt.scatter(pos_n[0, maskn], pos_n[1, maskn], marker='.', s=2, color='cyan')\n",
    "    plt.title('Boundaries of tracked fragments')\n",
    "\n",
    "\n",
    "    plt.subplot(133)\n",
    "    cmap = custom_cmap()\n",
    "    plt.imshow(watershed_labels, cmap=cmap, vmin=-1, vmax=mbt_p.nballs + mbt_n.nballs, interpolation='nearest', origin='lower')\n",
    "    plt.title('Tracked fragments with ball-based color labeling)')\n",
    "    plt.tight_layout()\n",
    "\n",
    "#     plt.savefig(PurePath(outputdir, 'frame_%02d.png'.format(i)))\n",
    "#     plt.close()\n"
   ]
  },
  {
   "cell_type": "code",
   "execution_count": 3,
   "metadata": {},
   "outputs": [],
   "source": [
    "datadir = PurePath('/Users/rattie/Data/SDO/HMI/Peter/dataset1/magnetograms')\n",
    "datafiles = sorted(glob.glob(str(PurePath(datadir, '*.fits'))))\n",
    "\n",
    "mbt_dict = {\"nt\":50,\n",
    "            \"rs\":2,\n",
    "            \"am\":0.5,\n",
    "            \"dp\":0.3,\n",
    "            \"td\":1,\n",
    "            \"intsteps\":10,\n",
    "            \"mag_thresh\":50,\n",
    "            \"noise_level\":20,\n",
    "            \"track_emergence\":True,\n",
    "            \"datafiles\":datafiles}\n",
    "\n",
    "mbt_p, mbt_n = mblt.mballtrack_main(**mbt_dict)\n",
    "# Convert to list of positions\n",
    "list_pos_p = [mbt_p.ballpos[..., i] for i in range(mbt_dict['nt'])]\n",
    "list_pos_n = [mbt_n.ballpos[..., i] for i in range(mbt_dict['nt'])]\n",
    "#\n",
    "# # Flux extraction by markers-based watershed\n",
    "ws_list_p, markers_list_p, borders_list_p = mblt.watershed_series(mbt_dict['datafiles'], mbt_dict['nt'], mbt_dict['noise_level'], 1, mbt_p.ballpos.astype(np.int32))\n",
    "ws_list_n, markers_list_n, borders_list_n = mblt.watershed_series(mbt_dict['datafiles'], mbt_dict['nt'], mbt_dict['noise_level'], -1, mbt_n.ballpos.astype(np.int32))"
   ]
  },
  {
   "cell_type": "code",
   "execution_count": 4,
   "metadata": {},
   "outputs": [],
   "source": [
    "list_pos_p = [mbt_p.ballpos[..., i] for i in range(mbt_dict['nt'])]\n",
    "list_pos_n = [mbt_n.ballpos[..., i] for i in range(mbt_dict['nt'])]"
   ]
  },
  {
   "cell_type": "code",
   "execution_count": 5,
   "metadata": {},
   "outputs": [],
   "source": [
    "ws_list_p, markers_list_p, borders_list_p = mblt.watershed_series(mbt_dict['datafiles'], mbt_dict['nt'], mbt_dict['noise_level'], 1, mbt_p.ballpos.astype(np.int32))\n",
    "ws_list_n, markers_list_n, borders_list_n = mblt.watershed_series(mbt_dict['datafiles'], mbt_dict['nt'], mbt_dict['noise_level'], -1, mbt_n.ballpos.astype(np.int32))"
   ]
  },
  {
   "cell_type": "code",
   "execution_count": 6,
   "metadata": {},
   "outputs": [
    {
     "data": {
      "text/plain": [
       "(50, 512, 512)"
      ]
     },
     "execution_count": 6,
     "metadata": {},
     "output_type": "execute_result"
    }
   ],
   "source": [
    "ws_list_p.shape"
   ]
  },
  {
   "cell_type": "code",
   "execution_count": 10,
   "metadata": {},
   "outputs": [
    {
     "data": {
      "text/plain": [
       "276"
      ]
     },
     "execution_count": 10,
     "metadata": {},
     "output_type": "execute_result"
    }
   ],
   "source": [
    "ws_list_p.max()"
   ]
  },
  {
   "cell_type": "code",
   "execution_count": 11,
   "metadata": {},
   "outputs": [
    {
     "data": {
      "text/plain": [
       "277"
      ]
     },
     "execution_count": 11,
     "metadata": {},
     "output_type": "execute_result"
    }
   ],
   "source": [
    "mbt_p.nballs"
   ]
  },
  {
   "cell_type": "code",
   "execution_count": null,
   "metadata": {},
   "outputs": [],
   "source": []
  }
 ],
 "metadata": {
  "kernelspec": {
   "display_name": "Python 3",
   "language": "python",
   "name": "python3"
  },
  "language_info": {
   "codemirror_mode": {
    "name": "ipython",
    "version": 3
   },
   "file_extension": ".py",
   "mimetype": "text/x-python",
   "name": "python",
   "nbconvert_exporter": "python",
   "pygments_lexer": "ipython3",
   "version": "3.6.7"
  }
 },
 "nbformat": 4,
 "nbformat_minor": 4
}
