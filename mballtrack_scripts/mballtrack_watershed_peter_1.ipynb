{
 "cells": [
  {
   "cell_type": "code",
   "execution_count": 1,
   "metadata": {},
   "outputs": [],
   "source": [
    "import fitsio\n",
    "import numpy as np\n",
    "import fitstools\n",
    "import matplotlib\n",
    "import matplotlib.pyplot as plt\n",
    "from matplotlib import colors\n",
    "from matplotlib.colors import LinearSegmentedColormap\n",
    "import balltracking.mballtrack as mblt\n",
    "from skimage.exposure import rescale_intensity\n",
    "import glob\n",
    "from pathlib import PurePath\n",
    "DTYPE = np.float32"
   ]
  },
  {
   "cell_type": "code",
   "execution_count": 2,
   "metadata": {},
   "outputs": [],
   "source": [
    "def custom_cmap(nballs):\n",
    "    #nballs = mbt_p.nballs + mbt_n.nballs\n",
    "    # ## Custom colors => This must add a unique color for the background\n",
    "    #colors = plt.cm.Set1_r(np.linspace(0, 1, 9))\n",
    "    colors = plt.cm.Set3(np.linspace(0, 1, 9))\n",
    "    # colors = plt.cm.Dark2(np.linspace(0, 1, 8))\n",
    "    # # light gray color\n",
    "    gray = np.array([[220, 220, 220, 255]]) / 255\n",
    "\n",
    "    cmap = matplotlib.colors.ListedColormap(colors, name='mycmap', N=nballs)\n",
    "    colors2 = np.array([cmap(i) for i in range(nballs)])\n",
    "    # Add unique background color\n",
    "    colors2 = np.concatenate((gray, colors2), axis=0)\n",
    "    cmap2 = matplotlib.colors.ListedColormap(colors2, name='mycmap2')\n",
    "\n",
    "    return cmap2\n",
    "\n",
    "\n",
    "def plot_mballtrack(args, datafiles, outputdir):\n",
    "    pos_p, pos_n, watershed_labels, borders, i = args\n",
    "\n",
    "    data = fitstools.fitsread(datafiles, tslice=i).astype(DTYPE)\n",
    "\n",
    "\n",
    "    plt.figure(figsize=(18, 8))\n",
    "\n",
    "    plt.subplot(131)\n",
    "    plt.imshow(data, cmap='gray', vmin=-100, vmax=100)\n",
    "    #plt.colorbar()\n",
    "    maskp = pos_p[0, :] > 0\n",
    "    maskn = pos_n[0, :] > 0\n",
    "    plt.scatter(pos_p[0, maskp], pos_p[1, maskp],marker='.', s=2, color='red')\n",
    "    plt.scatter(pos_n[0, maskn], pos_n[1, maskn],marker='.', s=2, color='cyan')\n",
    "\n",
    "    plt.xlabel('Lambert cyl. X')\n",
    "    plt.ylabel('Lambert cyl. Y')\n",
    "\n",
    "\n",
    "    plt.subplot(132)\n",
    "    #bkg_gray = np.full([*data.shape, 3], 220, dtype=np.uint8)\n",
    "    bkg_gray = rescale_intensity(np.tile(data[..., np.newaxis], (1,1,3)), in_range=(-100,100), out_range=np.uint8).astype(np.uint8)\n",
    "    borders_rgb = bkg_gray.copy()\n",
    "    # Color positive borders as red\n",
    "    borders_rgb[borders == 1, 0] = 255\n",
    "    borders_rgb[borders == 1, 1] = 0\n",
    "    borders_rgb[borders == 1, 2] = 0\n",
    "    # Color negative borders as cyan (accounting for color blindness)\n",
    "    borders_rgb[borders == -1, 0] = 175\n",
    "    borders_rgb[borders == -1, 1] = 238\n",
    "    borders_rgb[borders == -1, 2] = 238\n",
    "\n",
    "    #borders_rgb = np.concatenate((borders_red, borders_green, bkg_blue), axis=2)\n",
    "    #plt.imshow(data, cmap='gray', vmin=-100, vmax=100)\n",
    "    #plt.imshow(borders, vmin=0, vmax=1, origin='lower', cmap='Blues')\n",
    "    plt.imshow(borders_rgb, origin='lower')\n",
    "    plt.scatter(pos_p[0, maskp], pos_p[1, maskp], marker='.', s=2, color='red')\n",
    "    # plt.text(x + 1, y + 1, '%d' % target, fontsize=8)\n",
    "    plt.scatter(pos_n[0, maskn], pos_n[1, maskn], marker='.', s=2, color='cyan')\n",
    "    plt.title('Boundaries of tracked fragments')\n",
    "\n",
    "\n",
    "    plt.subplot(133)\n",
    "    cmap = custom_cmap()\n",
    "    plt.imshow(watershed_labels, cmap=cmap, vmin=-1, vmax=mbt_p.nballs + mbt_n.nballs, interpolation='nearest', origin='lower')\n",
    "    plt.title('Tracked fragments with ball-based color labeling)')\n",
    "    plt.tight_layout()\n",
    "\n",
    "#     plt.savefig(PurePath(outputdir, 'frame_%02d.png'.format(i)))\n",
    "#     plt.close()\n"
   ]
  },
  {
   "cell_type": "code",
   "execution_count": 3,
   "metadata": {},
   "outputs": [],
   "source": [
    "def draw_borders(data, borders_p, borders_n):\n",
    "    \n",
    "    borders = borders_p.copy().astype(np.int8)\n",
    "    borders[borders_n] = -1\n",
    "    \n",
    "    bkg_gray = rescale_intensity(np.tile(data[..., np.newaxis], (1,1,3)), in_range=(-100,100), out_range=np.uint8).astype(np.uint8)\n",
    "    borders_rgb = bkg_gray.copy()\n",
    "    # Color positive borders as red\n",
    "    borders_rgb[borders == 1, 0] = 255\n",
    "    borders_rgb[borders == 1, 1] = 0\n",
    "    borders_rgb[borders == 1, 2] = 0\n",
    "    # Color negative borders as cyan (accounting for color blindness)\n",
    "    borders_rgb[borders == -1, 0] = 175\n",
    "    borders_rgb[borders == -1, 1] = 238\n",
    "    borders_rgb[borders == -1, 2] = 238\n",
    "    \n",
    "    return borders_rgb, borders\n"
   ]
  },
  {
   "cell_type": "code",
   "execution_count": 6,
   "metadata": {},
   "outputs": [
    {
     "name": "stdout",
     "output_type": "stream",
     "text": [
      "CPU times: user 8.32 s, sys: 513 ms, total: 8.83 s\n",
      "Wall time: 9.3 s\n"
     ]
    }
   ],
   "source": [
    "%%time\n",
    "datadir = PurePath('/Users/rattie/Data/SDO/HMI/Peter/dataset1/magnetograms')\n",
    "datafiles = sorted(glob.glob(str(PurePath(datadir, '*.fits'))))\n",
    "\n",
    "mbt_dict = {\"nt\":100,\n",
    "            \"rs\":2,\n",
    "            \"am\":0.5,\n",
    "            \"dp\":0.3,\n",
    "            \"td\":1,\n",
    "            \"ballspacing\":5,\n",
    "            \"intsteps\":3,\n",
    "            \"mag_thresh\":50,\n",
    "            \"noise_level\":15,\n",
    "            \"track_emergence\":True,\n",
    "            \"datafiles\":datafiles,\n",
    "            \"do_plots\":False,\n",
    "            \"fig_dir\":PurePath(datadir, 'figures', 'debug')}\n",
    "\n",
    "mbt_p, mbt_n = mblt.mballtrack_main(**mbt_dict)\n",
    "# Convert to list of positions\n",
    "list_pos_p = [mbt_p.ballpos[0:2, :, i] for i in range(mbt_dict['nt'])]\n",
    "list_pos_n = [mbt_n.ballpos[0:2, :, i] for i in range(mbt_dict['nt'])]\n",
    "#\n",
    "# # Flux extraction by markers-based watershed\n",
    "ws_list_p, markers_list_p, borders_list_p = mblt.watershed_series(mbt_dict['datafiles'], mbt_dict['nt'], mbt_dict['noise_level'], 1, mbt_p.ballpos.astype(np.int32))\n",
    "ws_list_n, markers_list_n, borders_list_n = mblt.watershed_series(mbt_dict['datafiles'], mbt_dict['nt'], mbt_dict['noise_level'], -1, mbt_n.ballpos.astype(np.int32))\n",
    "\n"
   ]
  },
  {
   "cell_type": "code",
   "execution_count": null,
   "metadata": {},
   "outputs": [],
   "source": [
    "len(datafiles)"
   ]
  },
  {
   "cell_type": "code",
   "execution_count": null,
   "metadata": {},
   "outputs": [],
   "source": [
    "mag = fitsio.read(datafiles[0])\n",
    "mag = np.abs(mag)\n",
    "np.std(mag)"
   ]
  },
  {
   "cell_type": "code",
   "execution_count": null,
   "metadata": {},
   "outputs": [],
   "source": [
    "mbt_p.nballs, ws_list_p[7].max(), ws_list_p[8].max()"
   ]
  },
  {
   "cell_type": "code",
   "execution_count": null,
   "metadata": {},
   "outputs": [],
   "source": [
    "cmap = custom_cmap(mbt_p.nballs+1)\n",
    "cmap2 = custom_cmap(mbt_n.nballs+1)\n",
    "bounds = np.arange(mbt_p.nballs)\n",
    "norm = colors.BoundaryNorm(bounds, mbt_p.nballs)\n",
    "\n",
    "\n",
    "fig,ax = plt.subplots(1, 2, figsize=(20,10))\n",
    "ax[0].imshow(ws_list_p[0]+1, origin='lower', cmap=cmap, vmin=0, vmax=mbt_p.nballs)\n",
    "ax[1].imshow(ws_list_n[0]+1, origin='lower', cmap=cmap2, vmin=0, vmax=mbt_n.nballs)"
   ]
  },
  {
   "cell_type": "code",
   "execution_count": null,
   "metadata": {},
   "outputs": [],
   "source": [
    "cmap = custom_cmap(mbt_p.nballs + 1)\n",
    "\n",
    "\n",
    "for i in range(mbt_dict['nt']):\n",
    "    data = ws_list_p[i]+1\n",
    "    data[data > 1] = 1\n",
    "    fig,ax = plt.subplots(1, 2, figsize=(20,10))\n",
    "    ax[0].imshow(data, origin='lower', cmap='gray')\n",
    "    ax[0].plot(list_pos_p[i][0,:], list_pos_p[i][1,:], 'r+')\n",
    "    ax[0].set_xlabel('X [px]')\n",
    "    ax[0].set_ylabel('Y [px]')\n",
    "    ax[0].axis([0, 512, 0, 512])\n",
    "    for j in range(mbt_p.nballs):\n",
    "        ax[0].text(list_pos_p[i][0,j]+5, list_pos_p[i][1,j], str(j), color='cyan')\n",
    "\n",
    "    ax[1].imshow(ws_list_p[i]+1, origin='lower', cmap=cmap, vmin=0, vmax=mbt_p.nballs)\n",
    "    ax[1].set_xlabel('X [px]')\n",
    "    ax[1].set_ylabel('Y [px]')\n",
    "    plt.savefig(PurePath(datadir, 'figures', 'fig_{:03d}.png'.format(i)))\n",
    "    plt.close()"
   ]
  },
  {
   "cell_type": "code",
   "execution_count": null,
   "metadata": {},
   "outputs": [],
   "source": [
    "cmap = custom_cmap(mbt_p.nballs + 1)\n",
    "\n",
    "\n",
    "i = 0 \n",
    "mag = fitsio.read(datafiles[i])\n",
    "mag_borders, borders = draw_borders(mag, borders_list_p[i], borders_list_n[i])\n",
    "\n",
    "bkg_gray = rescale_intensity(np.tile(mag[..., np.newaxis], (1,1,3)), in_range=(-100,100), out_range=np.uint8).astype(np.uint8)\n",
    "\n",
    "fig, ax = plt.subplots(1, 2, figsize=(20, 10))\n",
    "ax[0].imshow(mag_borders, origin='lower')\n",
    "\n",
    "ax[1].imshow(bkg_gray, origin='lower')\n",
    "# ax[1].contour(borders, levels=[1, 1], colors='cyan', linewidths=1, antialiased=True)\n",
    "#ax[1].contour(ws_list_p[i]>0, levels=[1, 1], colors='red', linewidths=1, antialiased=True)\n",
    "ax[1].contour(ws_list_n[i]+1, levels=np.arange(mbt_p.nballs)+1, cmap=cmap, linewidths=1)\n"
   ]
  },
  {
   "cell_type": "code",
   "execution_count": null,
   "metadata": {},
   "outputs": [],
   "source": [
    "i = 0 \n",
    "mag = fitsio.read(datafiles[i])\n",
    "pos_p = mbt_p.ballpos[0:2, :, i]\n",
    "pos_n = mbt_n.ballpos[0:2, :, i]\n",
    "\n",
    "fig, ax = plt.subplots(1, 1, figsize=(10, 10))\n",
    "ax.imshow(mag, origin='lower', cmap='gray', vmin=-100, vmax=100)\n",
    "\n",
    "maskp = pos_p[0, :] > 0\n",
    "maskn = pos_n[0, :] > 0\n",
    "plt.scatter(pos_p[0, maskp], pos_p[1, maskp],marker='o', s=6, color='red')\n",
    "plt.scatter(pos_n[0, maskn], pos_n[1, maskn],marker='o', s=6, color='cyan')"
   ]
  },
  {
   "cell_type": "code",
   "execution_count": null,
   "metadata": {},
   "outputs": [],
   "source": [
    "for i in range(mbt_dict['nt']):\n",
    "    mag = fitsio.read(datafiles[i])\n",
    "    pos_p = mbt_p.ballpos[0:2, :, i]\n",
    "    pos_n = mbt_n.ballpos[0:2, :, i]\n",
    "\n",
    "    fig, ax = plt.subplots(1, 1, figsize=(10, 10))\n",
    "    ax.imshow(mag, origin='lower', cmap='gray', vmin=-100, vmax=100)\n",
    "    ax.set_xlabel('CEA X [px]')\n",
    "    ax.set_ylabel('CEA Y [px]')\n",
    "\n",
    "    maskp = pos_p[0, :] > 0\n",
    "    maskn = pos_n[0, :] > 0\n",
    "    plt.scatter(pos_p[0, maskp], pos_p[1, maskp],marker='o', s=6, color='red')\n",
    "    plt.scatter(pos_n[0, maskn], pos_n[1, maskn],marker='o', s=6, color='cyan')\n",
    "    plt.savefig(PurePath(datadir, 'figures', 'fig_1panel_{:03d}.png'.format(i)))\n",
    "    plt.close()"
   ]
  },
  {
   "cell_type": "code",
   "execution_count": null,
   "metadata": {},
   "outputs": [],
   "source": [
    "mbt_p['nt']"
   ]
  },
  {
   "cell_type": "code",
   "execution_count": null,
   "metadata": {},
   "outputs": [],
   "source": []
  },
  {
   "cell_type": "code",
   "execution_count": null,
   "metadata": {},
   "outputs": [],
   "source": [
    "from bokeh.plotting import figure, output_file, show"
   ]
  },
  {
   "cell_type": "code",
   "execution_count": null,
   "metadata": {},
   "outputs": [],
   "source": [
    "d = ws_list_p[7]\n",
    "\n",
    "p = figure(tooltips=[(\"x\", \"$x\"), (\"y\", \"$y\"), (\"value\", \"@image\")])\n",
    "p.x_range.range_padding = p.y_range.range_padding = 0\n",
    "\n",
    "# must give a vector of image data for image parameter\n",
    "p.image(image=[d], x=0, y=0, dw=10, dh=10, palette=\"Spectral11\", level=\"image\")\n",
    "\n",
    "show(p)"
   ]
  },
  {
   "cell_type": "code",
   "execution_count": null,
   "metadata": {},
   "outputs": [],
   "source": [
    "d = ws_list_n[0]\n",
    "\n",
    "p = figure(tooltips=[(\"x\", \"$x\"), (\"y\", \"$y\"), (\"value\", \"@image\")])\n",
    "p.x_range.range_padding = p.y_range.range_padding = 0\n",
    "\n",
    "# must give a vector of image data for image parameter\n",
    "p.image(image=[d], x=0, y=0, dw=10, dh=10, palette=\"Spectral11\", level=\"image\")\n",
    "\n",
    "show(p)"
   ]
  },
  {
   "cell_type": "code",
   "execution_count": null,
   "metadata": {},
   "outputs": [],
   "source": []
  }
 ],
 "metadata": {
  "kernelspec": {
   "display_name": "Python 3",
   "language": "python",
   "name": "python3"
  },
  "language_info": {
   "codemirror_mode": {
    "name": "ipython",
    "version": 3
   },
   "file_extension": ".py",
   "mimetype": "text/x-python",
   "name": "python",
   "nbconvert_exporter": "python",
   "pygments_lexer": "ipython3",
   "version": "3.6.7"
  }
 },
 "nbformat": 4,
 "nbformat_minor": 4
}
