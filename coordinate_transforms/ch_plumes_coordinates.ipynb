{
 "cells": [
  {
   "cell_type": "code",
   "execution_count": 10,
   "metadata": {},
   "outputs": [],
   "source": [
    "from astropy.coordinates import SkyCoord\n",
    "from astropy import units as u\n",
    "from sunpy.coordinates import frames\n",
    "from sunpy.coordinates.ephemeris import get_sun_L0, get_sun_B0"
   ]
  },
  {
   "cell_type": "code",
   "execution_count": 17,
   "metadata": {},
   "outputs": [
    {
     "name": "stdout",
     "output_type": "stream",
     "text": [
      "223.69203309140067\n"
     ]
    }
   ],
   "source": [
    "# Set the helioprojective coordinates of a region of interest at a given time\n",
    "xcen = [-280, 20] * u.arcsec\n",
    "ycen = [550, 90] * u.arcsec\n",
    "date_obs = '2010-06-26T12:00:00'\n",
    "L0 = get_sun_L0(time=date_obs).to_value(u.deg)\n",
    "print(L0)"
   ]
  },
  {
   "cell_type": "code",
   "execution_count": 18,
   "metadata": {},
   "outputs": [
    {
     "name": "stdout",
     "output_type": "stream",
     "text": [
      "<SkyCoord (HeliographicCarrington: obstime=2010-06-26 12:00:00): (lon, lat, radius) in (deg, deg, km)\n",
      "    [(201.74274973, 37.69587235, 695508.00000191),\n",
      "     (224.91250545,  7.79077178, 695508.00000403)]>\n",
      "<SkyCoord (HeliographicStonyhurst: obstime=2010-06-26 12:00:00): (lon, lat, radius) in (deg, deg, km)\n",
      "    [(-21.94928336, 37.69587235, 695508.00000191),\n",
      "     (  1.22047236,  7.79077178, 695508.00000403)]>\n"
     ]
    }
   ],
   "source": [
    "# Center coordinates in helioprojective cartesian (hpc)\n",
    "center_hpc = SkyCoord(xcen, ycen, frame=frames.Helioprojective, obstime=date_obs)\n",
    "# Convert to Heliographic Carrington (hgc)\n",
    "center_hgc = center_hpc.transform_to(frames.HeliographicCarrington)\n",
    "print(center_hgc)\n",
    "# Convert to Heliographic Stonyhurst (hgs)\n",
    "center_hgs = center_hpc.transform_to(frames.HeliographicStonyhurst)\n",
    "print(center_hgs)"
   ]
  },
  {
   "cell_type": "code",
   "execution_count": 16,
   "metadata": {},
   "outputs": [
    {
     "data": {
      "text/plain": [
       "-21.94928336140066"
      ]
     },
     "execution_count": 16,
     "metadata": {},
     "output_type": "execute_result"
    }
   ],
   "source": [
    "201.74274973 - L0"
   ]
  },
  {
   "cell_type": "code",
   "execution_count": null,
   "metadata": {},
   "outputs": [],
   "source": [
    "c = SkyCoord(-7*u.deg, 60*u.deg, frame=frames.HeliographicStonyhurst, obstime=\"2011-06-27T20:00:00\")\n",
    "print(c.transform_to(frames.HeliographicCarrington))\n",
    "\n",
    "c2 = SkyCoord(60*u.deg, -7*u.deg, frame=frames.HeliographicStonyhurst, obstime=\"2011-06-27T20:00:00\")\n",
    "print(c2.transform_to(frames.HeliographicCarrington))"
   ]
  }
 ],
 "metadata": {
  "kernelspec": {
   "display_name": "Python 3",
   "language": "python",
   "name": "python3"
  },
  "language_info": {
   "codemirror_mode": {
    "name": "ipython",
    "version": 3
   },
   "file_extension": ".py",
   "mimetype": "text/x-python",
   "name": "python",
   "nbconvert_exporter": "python",
   "pygments_lexer": "ipython3",
   "version": "3.6.7"
  }
 },
 "nbformat": 4,
 "nbformat_minor": 4
}
