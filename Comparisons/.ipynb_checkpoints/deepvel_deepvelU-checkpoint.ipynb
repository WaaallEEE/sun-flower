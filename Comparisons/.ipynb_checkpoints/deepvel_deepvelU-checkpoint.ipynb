{
 "cells": [
  {
   "cell_type": "code",
   "execution_count": 1,
   "metadata": {},
   "outputs": [
    {
     "name": "stdout",
     "output_type": "stream",
     "text": [
      "/Users/rattie/Dev/sdo_tracking_framework\n"
     ]
    }
   ],
   "source": [
    "%cd '/Users/rattie/Dev/sdo_tracking_framework'\n",
    "import os, glob\n",
    "import time\n",
    "import numpy as np\n",
    "from scipy.io import readsav\n",
    "import matplotlib.pyplot as plt\n",
    "import fitsio\n",
    "from astropy.io import fits\n",
    "from scipy.ndimage.filters import gaussian_filter \n",
    "from scipy.signal import convolve2d"
   ]
  },
  {
   "cell_type": "code",
   "execution_count": 2,
   "metadata": {},
   "outputs": [],
   "source": [
    "def calc_c_pearson(vx1, vx2, vy1, vy2, fov=None):\n",
    "    vx1f, vx2f, vy1f, vy2f = vx1[fov], vx2[fov], vy1[fov], vy2[fov]\n",
    "    c_pearson = np.sum(vx1f*vx2f + vy1f*vy2f) / np.sqrt(np.sum(vx1f**2 + vy1f**2)*np.sum(vx2f**2 + vy2f**2))\n",
    "    return c_pearson\n",
    "\n",
    "def load_vel_mean(v_files, trange):\n",
    "    \"Load the velocity files and average over a time range\"\n",
    "    vxs = []\n",
    "    vys = []\n",
    "    vx_files_subset = v_files[0][trange[0]:trange[1]]\n",
    "    vy_files_subset = v_files[1][trange[0]:trange[1]]\n",
    "    for vxf, vyf in zip(vx_files_subset, vy_files_subset):\n",
    "        vxs.append(fitsio.read(vxf))\n",
    "        vys.append(fitsio.read(vyf))\n",
    "    # Get the mean of the velocity components\n",
    "    vx = np.array(vxs).mean(axis=0)\n",
    "    vy = np.array(vys).mean(axis=0)\n",
    "    return vx, vy\n",
    "\n",
    "def load_vels_mean(v_files1, v_files2, trange):\n",
    "    \"Load two pairs of velocity components data, average them and output the averaged pairs of velocity components\"\n",
    "    vx1, vy1 = load_vel_mean(v_files1, trange)\n",
    "    vx2, vy2 = load_vel_mean(v_files2, trange)\n",
    "    return vx1, vy1, vx2, vy2\n",
    "\n",
    "def smooth_vel(vxs, vys, fwhm, kernel='boxcar'):\n",
    "    \"\"\" Smooth the velocity with a smoothing kernel that can either be: \n",
    "     - boxcar: width set to fwhm\n",
    "     - gaussian: parametrized by fwhm. \n",
    "     \n",
    "     Returns the smoothed velocity components\n",
    "    \"\"\" \n",
    "    \n",
    "    if kernel == 'boxcar':\n",
    "        box = np.ones([fwhm, fwhm])\n",
    "        vxs2 = convolve2d(vxs, box, mode='same')\n",
    "        vys2 = convolve2d(vys, box, mode='same')\n",
    "    elif kernel == 'gaussian':\n",
    "        sigma = fwhm / 2.35\n",
    "        vxs2 = gaussian_filter(vxs, sigma=sigma, order=0)\n",
    "        vys2 = gaussian_filter(vys, sigma=sigma, order=0)\n",
    "        \n",
    "    return vxs2, vys2\n"
   ]
  },
  {
   "cell_type": "code",
   "execution_count": 3,
   "metadata": {},
   "outputs": [],
   "source": [
    "# Parent directories of the velocities\n",
    "data_dir_stein = '/Users/rattie/Data/Ben/SteinSDO/'\n",
    "data_dir_deepvel = '/Users/rattie/Data/Ben/SteinSDO/output_newDeepVel_without_edge_effect/' \n",
    "# output directory for the plots\n",
    "plot_dir = '/Users/rattie/Data/Ben/SteinSDO/comparisons'\n",
    "# Select a subfield excluding edge effects\n",
    "imsize = 263 # actual size is 264 but original size was 263 then padded to 264 to make it even for the Fourier transform\n",
    "# Use same padding size as in Tremblay et al. 2018 used pad = 10\n",
    "pad = 10\n",
    "fov = np.s_[pad:imsize - pad, pad:imsize-pad]\n"
   ]
  },
  {
   "cell_type": "markdown",
   "metadata": {},
   "source": [
    "## Load data from simulation - Deepvel DeepvelU"
   ]
  },
  {
   "cell_type": "code",
   "execution_count": 67,
   "metadata": {},
   "outputs": [],
   "source": [
    "# Simulation\n",
    "svx_files = sorted(glob.glob(os.path.join(data_dir_stein,'SDO_vx*.fits')))\n",
    "svy_files = sorted(glob.glob(os.path.join(data_dir_stein,'SDO_vy*.fits')))\n",
    "# Deepvel\n",
    "dvx_files = sorted(glob.glob(os.path.join(data_dir_deepvel, 'DeepVel_vx1_drift_*.fits')))\n",
    "dvy_files = sorted(glob.glob(os.path.join(data_dir_deepvel, 'DeepVel_vy1_drift_*.fits')))\n",
    "# DeepvelU\n",
    "dvu = fitsio.read('/Users/rattie/Data/Ben/DeepVelU_QS/stein_output_80frames.fits')\n",
    "dvux, dvuy = dvu[...,1], dvu[...,0]"
   ]
  },
  {
   "cell_type": "markdown",
   "metadata": {},
   "source": [
    "# Calculate correlations with simulation"
   ]
  },
  {
   "cell_type": "code",
   "execution_count": 68,
   "metadata": {},
   "outputs": [
    {
     "data": {
      "text/plain": [
       "[[0, 29],\n",
       " [0, 34],\n",
       " [0, 39],\n",
       " [0, 44],\n",
       " [0, 49],\n",
       " [0, 54],\n",
       " [0, 59],\n",
       " [0, 64],\n",
       " [0, 69],\n",
       " [0, 74],\n",
       " [0, 79]]"
      ]
     },
     "execution_count": 68,
     "metadata": {},
     "output_type": "execute_result"
    }
   ],
   "source": [
    "# Time windows at increasing sizes\n",
    "twin = np.arange(29, 80, 5)\n",
    "tranges = [[0, f] for f in twin]\n",
    "# Smoothing kernel \n",
    "kernel = 'boxcar'\n",
    "tranges"
   ]
  },
  {
   "cell_type": "code",
   "execution_count": 116,
   "metadata": {},
   "outputs": [],
   "source": [
    "# Load stein and deepvel, with time average. DeepvelU is done separately\n",
    "vx_stein, vy_stein, vx_dv, vy_dv  = zip(*[load_vels_mean((svx_files, svy_files), (dvx_files, dvy_files), trange) for trange in tranges])"
   ]
  },
  {
   "cell_type": "code",
   "execution_count": 87,
   "metadata": {},
   "outputs": [],
   "source": [
    "# Time average deepvelU\n",
    "dvux = [dvux[trange[0]:trange[1], ...].mean(axis=0) for trange in tranges]\n",
    "dvuy = [dvuy[trange[0]:trange[1], ...].mean(axis=0) for trange in tranges]"
   ]
  },
  {
   "cell_type": "code",
   "execution_count": 117,
   "metadata": {},
   "outputs": [],
   "source": [
    "# smooth Stein velocities, deepvel & deepvelU\n",
    "fwhm = 7\n",
    "vx_stein1, vy_stein1 = zip(*[smooth_vel(vx, vy, fwhm, kernel=kernel) for vx, vy in zip(vx_stein, vy_stein)])\n",
    "vx_dv1, vy_dv1 = zip(*[smooth_vel(vx, vy, fwhm, kernel=kernel) for vx, vy in zip(vx_dv, vy_dv)])\n",
    "vx_dvu1, vy_dvu1 = zip(*[smooth_vel(vx, vy, fwhm, kernel=kernel) for vx, vy in zip(dvux, dvuy)])\n",
    "\n",
    "fwhm = 14\n",
    "vx_stein2, vy_stein2 = zip(*[smooth_vel(vx, vy, fwhm, kernel=kernel) for vx, vy in zip(vx_stein, vy_stein)])\n",
    "vx_dv2, vy_dv2 = zip(*[smooth_vel(vx, vy, fwhm, kernel=kernel) for vx, vy in zip(vx_dv, vy_dv)])\n",
    "vx_dvu2, vy_dvu2 = zip(*[smooth_vel(vx, vy, fwhm, kernel=kernel) for vx, vy in zip(dvux, dvuy)])"
   ]
  },
  {
   "cell_type": "code",
   "execution_count": 118,
   "metadata": {},
   "outputs": [],
   "source": [
    "# Pearson correlation coefficients\n",
    "c_pearsons_dv0 = [calc_c_pearson(vx_stein[i], vx_dv[i], vy_stein[i], vy_dv[i], fov=fov) for i in range(len(tranges))]\n",
    "c_pearsons_dvu0 = [calc_c_pearson(vx_stein[i], dvux[i], vy_stein[i], dvuy[i], fov=fov) for i in range(len(tranges))]\n",
    "\n",
    "c_pearsons_dv1 = [calc_c_pearson(vx_stein1[i], vx_dv1[i], vy_stein1[i], vy_dv1[i], fov=fov) for i in range(len(tranges))]\n",
    "c_pearsons_dvu1 = [calc_c_pearson(vx_stein1[i], vx_dvu1[i], vy_stein1[i], vy_dvu1[i], fov=fov) for i in range(len(tranges))]\n",
    "\n",
    "c_pearsons_dv2 = [calc_c_pearson(vx_stein2[i], vx_dv2[i], vy_stein2[i], vy_dv2[i], fov=fov) for i in range(len(tranges))]\n",
    "c_pearsons_dvu2 = [calc_c_pearson(vx_stein2[i], vx_dvu2[i], vy_stein2[i], vy_dvu2[i], fov=fov) for i in range(len(tranges))]\n"
   ]
  },
  {
   "cell_type": "code",
   "execution_count": 165,
   "metadata": {},
   "outputs": [
    {
     "data": {
      "image/png": "[encoded data removed]",
      "text/plain": [
       "<Figure size 432x252 with 1 Axes>"
      ]
     },
     "metadata": {
      "needs_background": "light"
     },
     "output_type": "display_data"
    }
   ],
   "source": [
    "%matplotlib inline\n",
    "plt.rcParams[\"font.family\"] = \"Times New Roman\"\n",
    "plt.rcParams[\"font.size\"] = 10\n",
    "plt.figure(figsize=(5.5,3.5))\n",
    "\n",
    "plt.plot(twin, c_pearsons_dv0, marker='.', color='black', label='DeepVel (368 km)')\n",
    "plt.plot(twin, c_pearsons_dv1, marker='d', markerfacecolor='none', color='black', label='DeepVel (2.5 Mm)')\n",
    "plt.plot(twin, c_pearsons_dv2, color='black', ls='--', label='DeepVel (5 Mm)')\n",
    "\n",
    "plt.plot(twin, c_pearsons_dvu0, marker='o', markerfacecolor='none', color='red', label='DeepVelU (368 km)')\n",
    "plt.plot(twin, c_pearsons_dvu1, color='red', label='DeepVelU (2.5 Mm)')\n",
    "plt.plot(twin, c_pearsons_dvu2, color='red', ls='--', label='DeepVelU (5 Mm)')\n",
    "\n",
    "plt.xlabel('Time average (min)')\n",
    "plt.ylabel('C')\n",
    "plt.grid(True)\n",
    "plt.title('(c) Correlation vs. Time & Spatial Scales')\n",
    "plt.legend(framealpha=0.5, loc='lower left', bbox_to_anchor=(1, 0))\n",
    "#plt.ylim([0.5, 1.0])\n",
    "plt.tight_layout()\n",
    "plt.savefig(os.path.join(plot_dir, 'Figure_2c.png'), dpi=300)\n",
    "plt.savefig(os.path.join(plot_dir, 'Figure_2c.eps'), dpi=300)\n",
    "\n"
   ]
  },
  {
   "cell_type": "code",
   "execution_count": 11,
   "metadata": {},
   "outputs": [
    {
     "data": {
      "text/plain": [
       "'/Users/rattie/Data/Ben/SteinSDO/comparisons'"
      ]
     },
     "execution_count": 11,
     "metadata": {},
     "output_type": "execute_result"
    }
   ],
   "source": [
    "plot_dir\n"
   ]
  },
  {
   "cell_type": "code",
   "execution_count": 102,
   "metadata": {},
   "outputs": [
    {
     "data": {
      "text/plain": [
       "2.944"
      ]
     },
     "execution_count": 102,
     "metadata": {},
     "output_type": "execute_result"
    }
   ],
   "source": [
    "8 * 368 / 1000"
   ]
  },
  {
   "cell_type": "code",
   "execution_count": null,
   "metadata": {},
   "outputs": [],
   "source": []
  }
 ],
 "metadata": {
  "kernelspec": {
   "display_name": "Python 3",
   "language": "python",
   "name": "python3"
  },
  "language_info": {
   "codemirror_mode": {
    "name": "ipython",
    "version": 3
   },
   "file_extension": ".py",
   "mimetype": "text/x-python",
   "name": "python",
   "nbconvert_exporter": "python",
   "pygments_lexer": "ipython3",
   "version": "3.6.7"
  }
 },
 "nbformat": 4,
 "nbformat_minor": 4
}
