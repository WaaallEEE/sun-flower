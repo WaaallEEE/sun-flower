{
 "cells": [
  {
   "cell_type": "code",
   "execution_count": 2,
   "metadata": {},
   "outputs": [],
   "source": [
    "import balltracking.balltrack as blt\n",
    "import os, glob\n",
    "import fitsio\n",
    "from scipy.ndimage.filters import gaussian_filter \n",
    "from scipy.signal import convolve2d\n",
    "from scipy.io import readsav\n",
    "import numpy as np\n",
    "import matplotlib\n",
    "matplotlib.use('agg')\n",
    "import matplotlib.pyplot as plt\n",
    "# Load FLCT\n",
    "from pathlib import Path\n",
    "from IPython import display\n",
    "import time\n",
    "\n",
    "matplotlib.rcParams.update({'font.size': 14})\n",
    "matplotlib.rcParams.update({'xtick.labelsize': 12, 'ytick.labelsize': 12})"
   ]
  },
  {
   "cell_type": "code",
   "execution_count": 3,
   "metadata": {},
   "outputs": [
    {
     "name": "stdout",
     "output_type": "stream",
     "text": [
      "[[0, 30], [0, 35], [0, 40], [0, 45], [0, 50], [0, 55], [0, 60], [0, 65], [0, 70], [0, 75], [0, 80], [0, 85], [0, 90], [0, 95], [0, 100], [0, 105], [0, 110], [0, 115], [0, 120], [0, 125], [0, 130], [0, 135], [0, 140], [0, 145], [0, 150], [0, 155], [0, 160], [0, 165], [0, 170], [0, 175], [0, 180], [0, 185], [0, 190], [0, 195], [0, 200], [0, 205], [0, 210], [0, 215], [0, 220], [0, 225], [0, 230], [0, 235], [0, 240], [0, 245], [0, 250], [0, 255], [0, 260], [0, 265], [0, 270], [0, 275], [0, 280], [0, 285], [0, 290], [0, 295], [0, 300], [0, 305], [0, 310], [0, 315], [0, 320], [0, 325], [0, 330], [0, 335], [0, 340], [0, 345], [0, 350], [0, 355], [0, 360]]\n"
     ]
    }
   ],
   "source": [
    "def load_vel_mean(v_files, trange):\n",
    "    \"Load the velocity files and average over a time range\"\n",
    "    vxs = []\n",
    "    vys = []\n",
    "    vx_files_subset = v_files[0][trange[0]:trange[1]]\n",
    "    vy_files_subset = v_files[1][trange[0]:trange[1]]\n",
    "    for vxf, vyf in zip(vx_files_subset, vy_files_subset):\n",
    "        vxs.append(fitsio.read(vxf))\n",
    "        vys.append(fitsio.read(vyf))\n",
    "    # Get the mean of the velocity components\n",
    "    vx = np.array(vxs).mean(axis=0)\n",
    "    vy = np.array(vys).mean(axis=0)\n",
    "    return vx, vy\n",
    "\n",
    "\n",
    "def smooth_vel(vxs, vys, fwhm, kernel='boxcar'):\n",
    "    \"\"\" Smooth the velocity with a smoothing kernel that can either be: \n",
    "     - boxcar: width set to fwhm\n",
    "     - gaussian: parametrized by fwhm. \n",
    "     \n",
    "     Returns the smoothed velocity components\n",
    "    \"\"\" \n",
    "    \n",
    "    if kernel == 'boxcar':\n",
    "        box = np.ones([fwhm, fwhm]) / fwhm**2\n",
    "        vxs2 = convolve2d(vxs, box, mode='same')\n",
    "        vys2 = convolve2d(vys, box, mode='same')\n",
    "    elif kernel == 'gaussian':\n",
    "        sigma = fwhm / 2.35\n",
    "        vxs2 = gaussian_filter(vxs, sigma=sigma, order=0)\n",
    "        vys2 = gaussian_filter(vys, sigma=sigma, order=0)\n",
    "        \n",
    "    return vxs2, vys2\n",
    "\n",
    "\n",
    "# For FLCT\n",
    "def read_vi(file, data_str):\n",
    "    idl_dict = readsav(file)\n",
    "    vi = idl_dict[data_str]\n",
    "    return vi\n",
    "\n",
    "\n",
    "def calc_c_pearson(vx1, vx2, vy1, vy2, fov=None):\n",
    "    vx1f, vx2f, vy1f, vy2f = vx1[fov], vx2[fov], vy1[fov], vy2[fov]\n",
    "    c_pearson = np.sum(vx1f*vx2f + vy1f*vy2f) / np.sqrt(np.sum(vx1f**2 + vy1f**2)*np.sum(vx2f**2 + vy2f**2))\n",
    "    return c_pearson\n",
    "\n",
    "\n",
    "datadir = os.path.join(os.environ['DATA'], 'Ben/SteinSDO')\n",
    "outputdir = os.path.join(datadir, 'comparisons/FWHM_11px')\n",
    "\n",
    "u = 368000 / 60\n",
    "\n",
    "fwhm = 11\n",
    "kernel = 'boxcar'\n",
    "dims = [263, 263]\n",
    "# Select a subfield excluding edge effects\n",
    "# Use same padding size as in Tremblay et al. 2018 used pad = 10\n",
    "pad = 14\n",
    "step = fwhm\n",
    "fov = np.s_[pad:-pad:step, pad:-pad:step]\n",
    "\n",
    "nframes = range(30, 365, 5)\n",
    "tranges = [[0, nt] for nt in range(30, 365, 5)]\n",
    "print(tranges)\n",
    "nflows = len(tranges)"
   ]
  },
  {
   "cell_type": "code",
   "execution_count": 4,
   "metadata": {},
   "outputs": [],
   "source": [
    "# Load Balltrack velocities (processed with balltracking_scripts/generic_balltrack.py)\n",
    "bvxs = [np.load(os.path.join(datadir, 'balltrack/vxy_{:s}_fwhm_{:d}_avg_{:d}.npz'.format(kernel, fwhm, trange[1])))['vx'] for trange in tranges]\n",
    "bvys = [np.load(os.path.join(datadir, 'balltrack/vxy_{:s}_fwhm_{:d}_avg_{:d}.npz'.format(kernel, fwhm, trange[1])))['vy'] for trange in tranges]"
   ]
  },
  {
   "cell_type": "code",
   "execution_count": 5,
   "metadata": {},
   "outputs": [],
   "source": [
    "# Load Stein data\n",
    "svx_files = sorted(glob.glob(os.path.join(datadir,'SDO_vx*.fits')))\n",
    "svy_files = sorted(glob.glob(os.path.join(datadir,'SDO_vy*.fits')))\n",
    "#vx, vy = load_vel_mean((svx_files, svy_files), tranges[0])\n",
    "vx_stein_l, vy_stein_l = zip(*[load_vel_mean((svx_files, svy_files), trange) for trange in tranges])\n",
    "# smooth the Stein velocities \n",
    "vx_stein_sm, vy_stein_sm = zip(*[smooth_vel(vx, vy, fwhm, kernel='boxcar') for vx, vy in zip(vx_stein_l, vy_stein_l)])\n",
    "npts = vx_stein_sm[0][fov].size"
   ]
  },
  {
   "cell_type": "markdown",
   "metadata": {},
   "source": [
    "### Load FLCT"
   ]
  },
  {
   "cell_type": "code",
   "execution_count": 6,
   "metadata": {},
   "outputs": [
    {
     "name": "stdout",
     "output_type": "stream",
     "text": [
      "nb of FLCT maps =  363\n"
     ]
    }
   ],
   "source": [
    "# Load FLCT\n",
    "#datadir_flct = os.path.expanduser('~/Data/Ben/SteinSDO/FLCT_Raphael/output_FLCT_sigma7_flct_v1.06')\n",
    "datadir_flct = os.path.expanduser('~/Data/Ben/SteinSDO/FLCT_Raphael/output_FLCT_sigma11')\n",
    "fvx_files = sorted((glob.glob(os.path.join(datadir_flct, 'FLCT_vx*.fits'))))\n",
    "fvy_files = sorted((glob.glob(os.path.join(datadir_flct, 'FLCT_vy*.fits'))))\n",
    "fcal = 1.44\n",
    "print('nb of FLCT maps = ', len(fvx_files))"
   ]
  },
  {
   "cell_type": "code",
   "execution_count": 7,
   "metadata": {},
   "outputs": [],
   "source": [
    "# Average over time\n",
    "fvxs, fvys = zip(*[load_vel_mean((fvx_files, fvy_files), trange) for trange in tranges])\n",
    "fvxs_cal = [fvx * fcal  for fvx in fvxs]\n",
    "fvys_cal = [fvy * fcal  for fvy in fvxs]"
   ]
  },
  {
   "cell_type": "code",
   "execution_count": 8,
   "metadata": {},
   "outputs": [],
   "source": [
    "fps, frs, _, _, _ = zip(*[np.polyfit(fvxs[i][fov].ravel()*u, vx_stein_sm[i][fov].ravel(), 1, full=True) for i in range(nflows)])\n",
    "frs = [np.sqrt(fr[0]/npts) for fr in frs]\n",
    "\n",
    "fp_cals, fr_cals, _, _, _ = zip(*[np.polyfit(fvxs_cal[i][fov].ravel()*u, vx_stein_sm[i][fov].ravel(), 1, full=True) for i in range(nflows)])\n",
    "fr_cals = [np.sqrt(fr_cal[0]/npts) for fr_cal in fr_cals]"
   ]
  },
  {
   "cell_type": "code",
   "execution_count": 9,
   "metadata": {
    "scrolled": true
   },
   "outputs": [
    {
     "name": "stdout",
     "output_type": "stream",
     "text": [
      "residuals (balltracking - both - calibrated) =  164.99334526971762\n",
      "bp[0] =  0.9862675585510077\n",
      "RMSE Balltracking =  166.02875792214536\n",
      "RMSE FLCT (uncalibrated) =  261.0144721936557\n",
      "RMSE FLCT (calibrated) =  232.08135063612184\n"
     ]
    }
   ],
   "source": [
    "# Calculate residuals RMSE\n",
    "u = 368000 / 60\n",
    "npts = vx_stein_sm[0][fov].size\n",
    "bps, brs, _, _, _ = zip(*[np.polyfit(bvxs[0][fov].ravel()*u, vx_stein_sm[0][fov].ravel(), 1, full=True) for i in range(nflows)])\n",
    "brs = [np.sqrt(br[0]/npts) for br in brs]\n",
    "print('residuals (balltracking - both - calibrated) = ', brs[0])\n",
    "print('bp[0] = ', bps[0][0])\n",
    "\n",
    "# bp_top, br_top, _, _, _ = np.polyfit(vx_top[fov].ravel()*u, vx_stein_sm[0][fov].ravel(), 1, full=True)\n",
    "# br_top = np.sqrt(br_top[0]/npts)\n",
    "# print('residuals (balltracking - top) = ', br_top)\n",
    "# print('bp_top[0] = ', bp_top[0])\n",
    "# print('cal_top = ', cal_top)\n",
    "\n",
    "\n",
    "bRMSEs = [np.sqrt(np.mean((vx_stein_sm[i][fov] - bvxs[i][fov]*u)**2)) for i in range(nflows)]\n",
    "print('RMSE Balltracking = ',  bRMSEs[0])\n",
    "\n",
    "fRMSE_uncals = [np.sqrt(np.mean((vx_stein_sm[i][fov] - fvxs[i][fov]*u)**2)) for i in range(nflows)]\n",
    "print('RMSE FLCT (uncalibrated) = ',  fRMSE_uncals[0])\n",
    "\n",
    "fRMSE_cals = [np.sqrt(np.mean((vx_stein_sm[i][fov] - fvxs_cal[i][fov]*u)**2)) for i in range(nflows)]\n",
    "print('RMSE FLCT (calibrated) = ',  fRMSE_cals[0])\n",
    "\n",
    "# RMSE_b_bot = np.sqrt(np.mean((vx_stein_sm[0][fov] - vx_bot[fov]*u*cal_bot)**2))\n",
    "# print('RMSE_b_bot = ',  RMSE_b_bot)\n",
    "\n",
    "# RMSE_f = np.sqrt(np.mean((vx_stein_sm[0][fov] - vx_flct[fov]*u)**2))\n",
    "# print('RMSE_f = ', RMSE_f)"
   ]
  },
  {
   "cell_type": "code",
   "execution_count": 10,
   "metadata": {},
   "outputs": [],
   "source": [
    "# Calculate correlations between Stein and Balltracking\n",
    "bcorrs = [calc_c_pearson(vx_stein_sm[i], bvxs[i], vy_stein_sm[i], bvys[i], fov=fov) for i in range(len(tranges))]\n",
    "fcorrs = [calc_c_pearson(vx_stein_sm[i], fvxs[i], vy_stein_sm[i], fvys[i], fov=fov) for i in range(len(tranges))]"
   ]
  },
  {
   "cell_type": "code",
   "execution_count": 11,
   "metadata": {
    "scrolled": false
   },
   "outputs": [],
   "source": [
    "#%matplotlib notebook\n",
    "\n",
    "x = np.arange(-2000, 2000, 100)\n",
    "\n",
    "idx = 0\n",
    "\n",
    "flct_fit = np.poly1d(fps[idx])(x)\n",
    "flct_fit_cal = np.poly1d(fp_cals[idx])(x)\n",
    "b_fit = np.poly1d(bps[idx])(x)\n",
    "\n",
    "\n",
    "fig, ax = plt.subplots(1,2, figsize = (13,7))\n",
    "ax[0].scatter(fvxs[idx][fov].ravel()*u, vx_stein_sm[idx][fov].ravel(), marker='+', s=20, color='black', alpha=0.7, label = 'FLCT       [C={:1.2f}] [RMSE={:1.0f} m/s]'.format(fcorrs[idx], fRMSE_uncals[idx]))\n",
    "ax[0].scatter(bvxs[idx][fov].ravel()*u, vx_stein_sm[idx][fov].ravel(), marker='o', s=6, color='orange', alpha=1.0, label = 'Balltrack [C={:1.2f}] [RMSE={:1.0f} m/s]'.format(bcorrs[idx], bRMSEs[idx]))\n",
    "\n",
    "ax[0].plot(x, flct_fit, color='black', label='FLCT (fit)       [s={:1.1f}] '.format(fps[idx][0]))\n",
    "ax[0].plot(x, b_fit, color='red', label='Balltrack (fit)  [s={:1.1f}] '.format(bps[idx][0]))\n",
    "\n",
    "ax[0].axis([-2000, 2000, -2000, 2000])\n",
    "ax[0].set_xlabel(r'$v_x$ (measured) [m/s]')\n",
    "ax[0].set_ylabel(r'$v_x$ (simulation) [m/s]')\n",
    "ax[0].legend(prop={'size': 12}, loc='upper left')\n",
    "ax[0].set_title('simulation vs. Balltracking & FLCT')\n",
    "ax[0].text(0, -1800, 'time average = {:d} min'.format(tranges[idx][1]))\n",
    "\n",
    "ax[1].scatter(fvxs_cal[idx][fov].ravel()*u, vx_stein_sm[idx][fov].ravel(), marker='+', s=20, color='black', alpha=0.7, label = 'FLCT (corrected) [C={:1.2f}] [RMSE={:1.0f} m/s]'.format(fcorrs[idx], fRMSE_cals[idx]))\n",
    "ax[1].scatter(bvxs[idx][fov].ravel()*u, vx_stein_sm[idx][fov].ravel(), marker='o', s=6, color='orange', alpha=1.0, label =     'Balltrack            [C={:1.2f}] [RMSE={:1.0f} m/s]'.format(bcorrs[idx], brs[idx]))\n",
    "\n",
    "ax[1].plot(x, flct_fit_cal, color='black', label='FLCT (fit)       [s={:1.1f}] '.format(fp_cals[idx][0]))\n",
    "ax[1].plot(x, b_fit, color='red', label='Balltrack (fit)  [s={:1.1f}] '.format(bps[idx][0]))\n",
    "\n",
    "\n",
    "ax[1].axis([-2000, 2000, -2000, 2000])\n",
    "ax[1].set_xlabel(r'$v_x$ (measured) [m/s]')\n",
    "ax[1].set_ylabel(r'$v_x$ (simulation) [m/s]')\n",
    "ax[1].legend(prop={'size': 12}, loc='upper left')\n",
    "ax[1].set_title('simulation vs. Balltracking & FLCT (calibrated)')\n",
    "ax[1].text(0, -1800, 'time average = {:d} min'.format(tranges[idx][1]))\n",
    "\n",
    "plt.tight_layout()\n",
    "plt.savefig(os.path.join(outputdir, 'balltracking_flct_{:d}.png'.format(idx)), dpi=300)\n",
    "plt.close()"
   ]
  },
  {
   "cell_type": "code",
   "execution_count": 12,
   "metadata": {},
   "outputs": [],
   "source": [
    "for idx in range(0, nflows):\n",
    "#idx = 0\n",
    "\n",
    "    flct_fit = np.poly1d(fps[idx])(x)\n",
    "    flct_fit_cal = np.poly1d(fp_cals[idx])(x)\n",
    "    b_fit = np.poly1d(bps[idx])(x)\n",
    "\n",
    "\n",
    "    fig, ax = plt.subplots(1,3, figsize = (15,6))\n",
    "\n",
    "    ax[0].scatter(fvxs_cal[idx][fov].ravel()*u, vx_stein_sm[idx][fov].ravel(), marker='+', s=20, color='black', alpha=0.7, label = 'FLCT (corrected)')\n",
    "    ax[0].scatter(bvxs[idx][fov].ravel()*u, vx_stein_sm[idx][fov].ravel(), marker='o', s=6, color='orange', alpha=1.0, label =     'Balltrack')\n",
    "\n",
    "    ax[0].plot(x, flct_fit_cal, color='black', label='FLCT (fit)')\n",
    "    ax[0].plot(x, b_fit, color='red', label='Balltrack (fit)')\n",
    "\n",
    "\n",
    "    ax[0].axis([-2000, 2000, -2000, 2000])\n",
    "    ax[0].set_xlabel(r'$v_x$ (measured) [m/s]')\n",
    "    ax[0].set_ylabel(r'$v_x$ (simulation) [m/s]')\n",
    "    ax[0].legend(prop={'size': 12}, loc='upper left')\n",
    "    ax[0].set_title('Balltracking & FLCT (calibrated)')\n",
    "    ax[0].text(-800, -1800, 'Time average = {:d} min'.format(tranges[idx][1]))\n",
    "\n",
    "    ax[1].plot(nframes, bcorrs, color='red', label='Balltracking')\n",
    "    ax[1].plot(nframes, fcorrs, label='FLCT')\n",
    "    ax[1].axvline(x=tranges[idx][1], color='black', alpha=0.5)\n",
    "    ax[1].set_title('Pearson Correlation')\n",
    "    ax[1].set_xlabel('Time average (min)')\n",
    "    ax[1].set_ylabel('Correlation')\n",
    "    ax[1].set_ylim([0.8, 1.0])\n",
    "    ax[1].grid()\n",
    "    ax[1].legend(loc='lower right')\n",
    "\n",
    "    ax[2].plot(nframes*45/60, bRMSEs, ls='--', color='red', label='Balltracking')\n",
    "    ax[2].plot(nframes, fRMSE_cals, ls='--', label='FLCT')\n",
    "    ax[2].axvline(x=tranges[idx][1], color='black', alpha=0.5)\n",
    "    ax[2].set_title('RMSE')\n",
    "    ax[2].set_xlabel('Time average (min)')\n",
    "    ax[2].set_ylabel('RMSE (m/s)')\n",
    "    ax[2].grid()\n",
    "    ax[2].legend(loc='upper right')\n",
    "    plt.tight_layout()\n",
    "    plt.savefig(os.path.join(outputdir, 'balltracking_flct_3panels_{:d}.png'.format(idx)), dpi=300)\n",
    "    plt.close()"
   ]
  },
  {
   "cell_type": "code",
   "execution_count": null,
   "metadata": {},
   "outputs": [],
   "source": [
    "#%matplotlib notebook\n",
    "\n",
    "fig, ax = plt.subplots(2,1, figsize = (7,11))\n",
    "ax[0].plot(nframes, bcorrs, color='orange', label='Balltracking')\n",
    "ax[0].plot(nframes, fcorrs, label='FLCT')\n",
    "ax[0].set_title('Correlation at 7-px boxcar average')\n",
    "ax[0].set_xlabel('time average (min)')\n",
    "ax[0].set_ylabel('Pearson Correlation')\n",
    "ax[0].set_ylim([0.8, 1.0])\n",
    "ax[0].grid()\n",
    "ax[0].legend()\n",
    "\n",
    "ax[1].plot(nframes, bRMSEs, color='orange', label='Balltracking')\n",
    "ax[1].plot(nframes, fRMSE_cals, label='FLCT')\n",
    "ax[1].set_title('RMSE at 7-px boxcar average')\n",
    "ax[1].set_xlabel('time average (min)')\n",
    "ax[1].set_ylabel('RMSE (m/s)')\n",
    "ax[1].grid()\n",
    "ax[1].legend()\n",
    "plt.tight_layout()\n",
    "plt.savefig(os.path.join(outputdir, 'balltracking_flct_correlations.png'), dpi=300)"
   ]
  },
  {
   "cell_type": "code",
   "execution_count": 13,
   "metadata": {},
   "outputs": [
    {
     "data": {
      "text/plain": [
       "'/Users/rattie/Data/Ben/SteinSDO/comparisons/FWHM_11px'"
      ]
     },
     "execution_count": 13,
     "metadata": {},
     "output_type": "execute_result"
    }
   ],
   "source": []
  },
  {
   "cell_type": "code",
   "execution_count": 14,
   "metadata": {},
   "outputs": [
    {
     "data": {
      "text/plain": [
       "range(30, 365, 5)"
      ]
     },
     "execution_count": 14,
     "metadata": {},
     "output_type": "execute_result"
    }
   ],
   "source": []
  },
  {
   "cell_type": "code",
   "execution_count": null,
   "metadata": {},
   "outputs": [],
   "source": []
  }
 ],
 "metadata": {
  "kernelspec": {
   "display_name": "Python 3",
   "language": "python",
   "name": "python3"
  },
  "language_info": {
   "codemirror_mode": {
    "name": "ipython",
    "version": 3
   },
   "file_extension": ".py",
   "mimetype": "text/x-python",
   "name": "python",
   "nbconvert_exporter": "python",
   "pygments_lexer": "ipython3",
   "version": "3.6.7"
  }
 },
 "nbformat": 4,
 "nbformat_minor": 2
}
