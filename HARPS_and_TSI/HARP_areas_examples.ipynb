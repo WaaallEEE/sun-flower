{
 "cells": [
  {
   "cell_type": "markdown",
   "metadata": {},
   "source": [
    "### Active Region areas from SDO/HMI metadata for Feb 2018 and Sep 2017 series\n",
    "\n",
    "This script will fetch the area of all the active regions detected by the HMI processing pipeline. These \"AREA\" that are \"magnetically\" active will contain sunspot but also regions where sunspot aren't visible, as a magnetically active region can be strong enough to trigger a detection but not strong enough to cause the appearance of a sunspot"
   ]
  },
  {
   "cell_type": "code",
   "execution_count": 1,
   "metadata": {},
   "outputs": [],
   "source": [
    "import drms\n",
    "import datetime\n",
    "import matplotlib.pyplot as plt\n",
    "import matplotlib.dates as mdates\n",
    "import pandas as pd\n",
    "%matplotlib notebook"
   ]
  },
  {
   "cell_type": "code",
   "execution_count": 2,
   "metadata": {},
   "outputs": [],
   "source": [
    "def get_mharp_data(tstart, tend):\n",
    "    c = drms.Client()\n",
    "    # Convert time window of interest into a formatted string with optional extra time before and after\n",
    "    # duration of the query time window in days \n",
    "    dt = (tend - tstart).days\n",
    "    # Make the query\n",
    "    df_mharp = c.query('hmi.Mharp_720s[][{:s}_TAI/{:d}d@24h]'.format(tstart.strftime(\"%Y.%m.%d\"), dt), \n",
    "                       key='T_REC, HARPNUM, AREA')\n",
    "    # Convert the time to a Pandas-compatible time\n",
    "    #df_mharp['T_REC'] = df_mharp['T_REC'].apply(lambda x: parse_time(x))\n",
    "    df_mharp['T_REC'] = df_mharp['T_REC'].apply(lambda x: pd.Timestamp(x.replace('_TAI', '').replace('_', ' ')))\n",
    "    return df_mharp"
   ]
  },
  {
   "cell_type": "markdown",
   "metadata": {},
   "source": [
    "### Feb 2018 series"
   ]
  },
  {
   "cell_type": "code",
   "execution_count": 3,
   "metadata": {},
   "outputs": [
    {
     "name": "stdout",
     "output_type": "stream",
     "text": [
      "        T_REC  HARPNUM         AREA\n",
      "0  2018-02-01     7235   865.969910\n",
      "1  2018-02-02     7235   812.163574\n",
      "2  2018-02-03     7235   858.091675\n",
      "3  2018-02-04     7235   790.545837\n",
      "4  2018-02-05     7235   391.363525\n",
      "5  2018-02-06     7235          NaN\n",
      "6  2018-02-02     7236   419.379883\n",
      "7  2018-02-03     7236          NaN\n",
      "8  2018-02-04     7236          NaN\n",
      "9  2018-02-05     7236   375.540253\n",
      "10 2018-02-06     7236   375.210052\n",
      "11 2018-02-07     7236   165.072052\n",
      "12 2018-02-08     7236   206.725632\n",
      "13 2018-02-09     7236          NaN\n",
      "14 2018-02-10     7236          NaN\n",
      "15 2018-02-04     7237          NaN\n",
      "16 2018-02-05     7237  2782.025879\n",
      "17 2018-02-06     7237  3283.389160\n",
      "18 2018-02-07     7237  3416.515137\n",
      "19 2018-02-08     7237  3575.060303\n",
      "20 2018-02-09     7237  3720.981201\n",
      "21 2018-02-10     7237  4042.016113\n",
      "22 2018-02-11     7237  4282.413086\n",
      "23 2018-02-12     7237  4354.744141\n",
      "24 2018-02-13     7237  4767.751953\n",
      "25 2018-02-14     7237  4547.770508\n",
      "26 2018-02-15     7237  3974.111572\n",
      "27 2018-02-16     7237  3011.231934\n",
      "28 2018-02-17     7237  1430.899292\n",
      "29 2018-02-18     7237          NaN\n",
      "30 2018-02-26     7240          NaN\n",
      "31 2018-02-27     7240  1412.767456\n"
     ]
    }
   ],
   "source": [
    "tstart = datetime.date(2018, 2, 1)\n",
    "tend = datetime.date(2018, 2, 28)\n",
    "df_mharp = get_mharp_data(tstart, tend)\n",
    "print(df_mharp)"
   ]
  },
  {
   "cell_type": "markdown",
   "metadata": {},
   "source": [
    "#### On the results above, you can see \"HARPNUM\" that is a unique identifier to a magnetically active area. There can be many active area on the sun at the same time. For a given day, one has to make the sum of all the area to have the total area for that day. \n",
    "- For example item 1 and item 6 one has harpnum 7235 and 7236 at the same date. \n",
    "- Pandas can be used to group everything by day using the T_REC column, then \"aggregate\" the AREA by a sum operation\n",
    "- It's best to alway reset the index after an aggregation to keep things in order."
   ]
  },
  {
   "cell_type": "code",
   "execution_count": 4,
   "metadata": {},
   "outputs": [
    {
     "name": "stdout",
     "output_type": "stream",
     "text": [
      "        T_REC   TOTAL AREA\n",
      "0  2018-02-01   865.969910\n",
      "1  2018-02-02  1231.543457\n",
      "2  2018-02-03   858.091675\n",
      "3  2018-02-04   790.545837\n",
      "4  2018-02-05  3548.929657\n",
      "5  2018-02-06  3658.599212\n",
      "6  2018-02-07  3581.587189\n",
      "7  2018-02-08  3781.785935\n",
      "8  2018-02-09  3720.981201\n",
      "9  2018-02-10  4042.016113\n",
      "10 2018-02-11  4282.413086\n",
      "11 2018-02-12  4354.744141\n",
      "12 2018-02-13  4767.751953\n",
      "13 2018-02-14  4547.770508\n",
      "14 2018-02-15  3974.111572\n",
      "15 2018-02-16  3011.231934\n",
      "16 2018-02-17  1430.899292\n",
      "17 2018-02-18     0.000000\n",
      "18 2018-02-26     0.000000\n",
      "19 2018-02-27  1412.767456\n"
     ]
    }
   ],
   "source": [
    "df_total_area = df_mharp.groupby(['T_REC'])['AREA'].agg([('TOTAL AREA', 'sum')]).reset_index()\n",
    "print(df_total_area)"
   ]
  },
  {
   "cell_type": "markdown",
   "metadata": {},
   "source": [
    "Now that we have aggregated all the active regions by summing the total area for each day, we have unique series of T_REC than serve as an index. It's not mandatory but makes manipulating the dataframe more convenient."
   ]
  },
  {
   "cell_type": "code",
   "execution_count": 5,
   "metadata": {},
   "outputs": [
    {
     "name": "stdout",
     "output_type": "stream",
     "text": [
      "             TOTAL AREA\n",
      "T_REC                  \n",
      "2018-02-01   865.969910\n",
      "2018-02-02  1231.543457\n",
      "2018-02-03   858.091675\n",
      "2018-02-04   790.545837\n",
      "2018-02-05  3548.929657\n",
      "2018-02-06  3658.599212\n",
      "2018-02-07  3581.587189\n",
      "2018-02-08  3781.785935\n",
      "2018-02-09  3720.981201\n",
      "2018-02-10  4042.016113\n",
      "2018-02-11  4282.413086\n",
      "2018-02-12  4354.744141\n",
      "2018-02-13  4767.751953\n",
      "2018-02-14  4547.770508\n",
      "2018-02-15  3974.111572\n",
      "2018-02-16  3011.231934\n",
      "2018-02-17  1430.899292\n",
      "2018-02-18     0.000000\n",
      "2018-02-26     0.000000\n",
      "2018-02-27  1412.767456\n"
     ]
    }
   ],
   "source": [
    "df_total_area.set_index('T_REC', inplace=True)\n",
    "print(df_total_area)"
   ]
  },
  {
   "cell_type": "code",
   "execution_count": 6,
   "metadata": {},
   "outputs": [
    {
     "data": {
      "image/png": "[encoded data removed]",
      "text/plain": [
       "<Figure size 432x288 with 1 Axes>"
      ]
     },
     "metadata": {
      "needs_background": "light"
     },
     "output_type": "display_data"
    }
   ],
   "source": [
    "# Plot the above result\n",
    "ax = df_total_area.plot(y=['TOTAL AREA'],style='-', grid=True)\n",
    "ax.xaxis.set_major_locator(mdates.DayLocator(interval=1))\n",
    "# Only display day of the month\n",
    "ax.xaxis.set_major_formatter(mdates.DateFormatter('%d'))\n",
    "# # set font and rotation for date tick labels\n",
    "plt.xticks(rotation=90)\n",
    "plt.xlabel('Feb 2018')\n",
    "plt.grid(True)\n",
    "plt.tight_layout()"
   ]
  },
  {
   "cell_type": "markdown",
   "metadata": {},
   "source": [
    "### Sep 2017"
   ]
  },
  {
   "cell_type": "code",
   "execution_count": 7,
   "metadata": {},
   "outputs": [],
   "source": [
    "tstart = datetime.date(2017, 8, 25)\n",
    "tend = datetime.date(2017, 9, 26)\n",
    "df_mharp = get_mharp_data(tstart, tend)\n",
    "df_total_area = df_mharp.groupby(['T_REC'])['AREA'].agg([('TOTAL AREA', 'sum')]).reset_index()\n",
    "df_total_area.set_index('T_REC', inplace=True)"
   ]
  },
  {
   "cell_type": "code",
   "execution_count": 8,
   "metadata": {},
   "outputs": [
    {
     "data": {
      "image/png": "[encoded data removed]",
      "text/plain": [
       "<Figure size 432x288 with 1 Axes>"
      ]
     },
     "metadata": {
      "needs_background": "light"
     },
     "output_type": "display_data"
    }
   ],
   "source": [
    "# Plot the above result\n",
    "ax = df_total_area.plot(y=['TOTAL AREA'], style='-', grid=True)\n",
    "#ax.xaxis.set_major_locator(mdates.DayLocator(interval=1))\n",
    "# # set formatter\n",
    "#ax.xaxis.set_major_formatter(mdates.DateFormatter('%d'))\n",
    "# # set font and rotation for date tick labels\n",
    "ax.set_xticks(df_total_area.index)\n",
    "plt.xticks(rotation=90)\n",
    "plt.xlabel('Date')\n",
    "plt.grid(True)\n",
    "plt.tight_layout()"
   ]
  },
  {
   "cell_type": "markdown",
   "metadata": {},
   "source": [
    "### Now that we know how to get a total area for a given time window. The next step would be to use the other method to get the mean intensity for the same time window, and see if there's a time lag between the maxima of the total area, and the minima of the mean intensity. "
   ]
  },
  {
   "cell_type": "code",
   "execution_count": null,
   "metadata": {},
   "outputs": [],
   "source": []
  }
 ],
 "metadata": {
  "kernelspec": {
   "display_name": "Python 3",
   "language": "python",
   "name": "python3"
  },
  "language_info": {
   "codemirror_mode": {
    "name": "ipython",
    "version": 3
   },
   "file_extension": ".py",
   "mimetype": "text/x-python",
   "name": "python",
   "nbconvert_exporter": "python",
   "pygments_lexer": "ipython3",
   "version": "3.7.3"
  }
 },
 "nbformat": 4,
 "nbformat_minor": 2
}
